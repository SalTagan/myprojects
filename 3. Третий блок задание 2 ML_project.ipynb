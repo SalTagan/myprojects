{
 "cells": [
  {
   "cell_type": "code",
   "execution_count": 1,
   "id": "7fa23b37-5f56-4863-be7c-4c2b375257bb",
   "metadata": {},
   "outputs": [],
   "source": [
    "# все нужные библиотеки\n",
    "# можете дополнить список если считаете нужным\n",
    "import numpy as np\n",
    "import pandas as pd\n",
    "\n",
    "from sklearn.model_selection import train_test_split\n",
    "from sklearn.model_selection import GridSearchCV\n",
    "\n",
    "from sklearn.preprocessing import MinMaxScaler\n",
    "from sklearn.preprocessing import StandardScaler\n",
    "from sklearn.preprocessing import OneHotEncoder\n",
    "\n",
    "from sklearn.metrics import accuracy_score\n",
    "from sklearn.metrics import mean_squared_error as MSE\n",
    "from sklearn.metrics import classification_report\n",
    "from sklearn.metrics import confusion_matrix\n",
    "\n",
    "from sklearn.linear_model import LogisticRegression\n",
    "from sklearn.linear_model import LinearRegression\n",
    "from statsmodels.regression.linear_model import OLS\n",
    "\n",
    "from sklearn.decomposition import PCA\n",
    "from sklearn.svm import SVC\n",
    "from sklearn.neighbors import KNeighborsClassifier\n",
    "\n",
    "from sklearn.tree import DecisionTreeClassifier\n",
    "from sklearn.ensemble import RandomForestClassifier\n",
    "from sklearn.ensemble import AdaBoostClassifier\n",
    "from sklearn.ensemble import GradientBoostingClassifier\n",
    "from lightgbm import LGBMClassifier\n",
    "import xgboost as xgb\n",
    "\n",
    "import plotly.graph_objs as go\n",
    "import matplotlib.pyplot as plt\n",
    "\n"
   ]
  },
  {
   "cell_type": "code",
   "execution_count": 2,
   "id": "6e012bfa-d62d-4d37-97c2-3092ac814cd3",
   "metadata": {},
   "outputs": [
    {
     "name": "stdout",
     "output_type": "stream",
     "text": [
      "Requirement already satisfied: xgboost in c:\\users\\z500\\anaconda3\\lib\\site-packages (2.1.1)\n",
      "Requirement already satisfied: numpy in c:\\users\\z500\\anaconda3\\lib\\site-packages (from xgboost) (1.26.4)\n",
      "Requirement already satisfied: scipy in c:\\users\\z500\\anaconda3\\lib\\site-packages (from xgboost) (1.11.4)\n",
      "Note: you may need to restart the kernel to use updated packages.\n"
     ]
    }
   ],
   "source": [
    "pip install xgboost"
   ]
  },
  {
   "cell_type": "markdown",
   "id": "989fa8d0-5220-4c98-856f-52a3d6723902",
   "metadata": {},
   "source": [
    "### Проект:\n",
    "Заказчик передал вам данные: суммы транзакции клиентов и какие-то признаки<br>\n",
    "Все данные хранятся в файле train_dataset.csv, где суммы транзакций размещены под колонкой \"int_target\". Как вы уже догадались это и будет таргет который нам нужно будет предсказать.<br>\n",
    "Не терпится начать? Мне тоже, но для начала вводная касательно этого проекта, тоже будет интересно."
   ]
  },
  {
   "cell_type": "markdown",
   "id": "ec659810-db58-4dd8-bed4-81cbb1106f18",
   "metadata": {},
   "source": [
    "Хотя перед вами стоит одна задача весь проект будет поделён на несколько подпунктов для вашего удобства.<br>\n",
    "Каждый из подпунктов будет просить вас выполнить какое-то задание, но как вы его выполните будет зависеть только от вас. Ведь как вы уже\n",
    "убедились в дата-саинсе, да и в целом питоне много разных подходов для одной проблемы.<br>\n",
    "\n",
    "В целом вы можете написать полностью свой код, главное в итоге построить модель. А убедиться в том что ваша модель хороша нам поможет Kaggle.<br>\n",
    "Да-да, в этом проекте вы сможете сдать свои результаты в Kaggle и получить свой балл.<br>\n",
    "Ну, а теперь пора начинать"
   ]
  },
  {
   "cell_type": "markdown",
   "id": "08826869",
   "metadata": {},
   "source": [
    "1) Для начала импортируйте данные из файла dataset.csv, назовите ваш датасет \"dataset\""
   ]
  },
  {
   "cell_type": "code",
   "execution_count": 23,
   "id": "96fa8eab-d100-48f3-b6c0-001d091149fc",
   "metadata": {},
   "outputs": [],
   "source": [
    "dataset = pd.read_csv('train_dataset.csv')"
   ]
  },
  {
   "cell_type": "markdown",
   "id": "32b58771-f9c4-4abd-ba14-a6067c33c467",
   "metadata": {},
   "source": [
    "  2. Сделайте предварительный анализ посмотрите на ваши данные:\n",
    "сколько их, какого они типа, и какое их примерно распределение"
   ]
  },
  {
   "cell_type": "code",
   "execution_count": 4,
   "id": "f128ad39-d167-4f75-8bbd-3c605c3a6c8f",
   "metadata": {},
   "outputs": [
    {
     "data": {
      "text/html": [
       "<div>\n",
       "<style scoped>\n",
       "    .dataframe tbody tr th:only-of-type {\n",
       "        vertical-align: middle;\n",
       "    }\n",
       "\n",
       "    .dataframe tbody tr th {\n",
       "        vertical-align: top;\n",
       "    }\n",
       "\n",
       "    .dataframe thead th {\n",
       "        text-align: right;\n",
       "    }\n",
       "</style>\n",
       "<table border=\"1\" class=\"dataframe\">\n",
       "  <thead>\n",
       "    <tr style=\"text-align: right;\">\n",
       "      <th></th>\n",
       "      <th>feature_1</th>\n",
       "      <th>feature_2</th>\n",
       "      <th>feature_3</th>\n",
       "      <th>feature_4</th>\n",
       "      <th>feature_5</th>\n",
       "      <th>feature_6</th>\n",
       "      <th>feature_7</th>\n",
       "      <th>feature_8</th>\n",
       "      <th>feature_9</th>\n",
       "      <th>feature_10</th>\n",
       "      <th>...</th>\n",
       "      <th>feature_12</th>\n",
       "      <th>feature_13</th>\n",
       "      <th>feature_14</th>\n",
       "      <th>feature_15</th>\n",
       "      <th>feature_16</th>\n",
       "      <th>feature_17</th>\n",
       "      <th>feature_18</th>\n",
       "      <th>feature_19</th>\n",
       "      <th>feature_20</th>\n",
       "      <th>int_target</th>\n",
       "    </tr>\n",
       "  </thead>\n",
       "  <tbody>\n",
       "    <tr>\n",
       "      <th>0</th>\n",
       "      <td>-0.043457</td>\n",
       "      <td>-0.027918</td>\n",
       "      <td>1.473594</td>\n",
       "      <td>-10.309556</td>\n",
       "      <td>-1.000000</td>\n",
       "      <td>145.373247</td>\n",
       "      <td>0.001888</td>\n",
       "      <td>2.555947</td>\n",
       "      <td>-64.208613</td>\n",
       "      <td>0.470329</td>\n",
       "      <td>...</td>\n",
       "      <td>B</td>\n",
       "      <td>83.317907</td>\n",
       "      <td>85.385030</td>\n",
       "      <td>120.550153</td>\n",
       "      <td>59.736520</td>\n",
       "      <td>64.325558</td>\n",
       "      <td>107.833753</td>\n",
       "      <td>85.853573</td>\n",
       "      <td>104.466108</td>\n",
       "      <td>17353</td>\n",
       "    </tr>\n",
       "    <tr>\n",
       "      <th>1</th>\n",
       "      <td>-1.535978</td>\n",
       "      <td>0.999851</td>\n",
       "      <td>23.019753</td>\n",
       "      <td>38.430092</td>\n",
       "      <td>1.000000</td>\n",
       "      <td>-110.045207</td>\n",
       "      <td>2.359228</td>\n",
       "      <td>0.571917</td>\n",
       "      <td>-110.318854</td>\n",
       "      <td>-2.620978</td>\n",
       "      <td>...</td>\n",
       "      <td>D</td>\n",
       "      <td>114.881621</td>\n",
       "      <td>79.711086</td>\n",
       "      <td>68.505986</td>\n",
       "      <td>116.330797</td>\n",
       "      <td>75.365722</td>\n",
       "      <td>104.229006</td>\n",
       "      <td>90.842232</td>\n",
       "      <td>95.232654</td>\n",
       "      <td>1214</td>\n",
       "    </tr>\n",
       "    <tr>\n",
       "      <th>2</th>\n",
       "      <td>11.567708</td>\n",
       "      <td>0.608310</td>\n",
       "      <td>1.873323</td>\n",
       "      <td>6.412821</td>\n",
       "      <td>0.999995</td>\n",
       "      <td>-280.186852</td>\n",
       "      <td>133.811870</td>\n",
       "      <td>1.160380</td>\n",
       "      <td>-206.238816</td>\n",
       "      <td>-1.006502</td>\n",
       "      <td>...</td>\n",
       "      <td>B</td>\n",
       "      <td>145.833459</td>\n",
       "      <td>115.159171</td>\n",
       "      <td>64.417992</td>\n",
       "      <td>98.846694</td>\n",
       "      <td>66.381070</td>\n",
       "      <td>82.118547</td>\n",
       "      <td>96.837671</td>\n",
       "      <td>103.887599</td>\n",
       "      <td>16094</td>\n",
       "    </tr>\n",
       "    <tr>\n",
       "      <th>3</th>\n",
       "      <td>9.220074</td>\n",
       "      <td>0.999864</td>\n",
       "      <td>5.041939</td>\n",
       "      <td>-12.692120</td>\n",
       "      <td>-1.000000</td>\n",
       "      <td>164.773793</td>\n",
       "      <td>85.009772</td>\n",
       "      <td>-1.401234</td>\n",
       "      <td>92.624296</td>\n",
       "      <td>2.712139</td>\n",
       "      <td>...</td>\n",
       "      <td>C</td>\n",
       "      <td>98.150579</td>\n",
       "      <td>78.620349</td>\n",
       "      <td>120.176496</td>\n",
       "      <td>104.297092</td>\n",
       "      <td>89.318362</td>\n",
       "      <td>73.791588</td>\n",
       "      <td>71.870016</td>\n",
       "      <td>68.397346</td>\n",
       "      <td>24168</td>\n",
       "    </tr>\n",
       "    <tr>\n",
       "      <th>4</th>\n",
       "      <td>-3.025434</td>\n",
       "      <td>-0.594711</td>\n",
       "      <td>5.912259</td>\n",
       "      <td>-14.922129</td>\n",
       "      <td>-1.000000</td>\n",
       "      <td>9.546673</td>\n",
       "      <td>9.153251</td>\n",
       "      <td>-0.157479</td>\n",
       "      <td>-175.895074</td>\n",
       "      <td>-0.832795</td>\n",
       "      <td>...</td>\n",
       "      <td>C</td>\n",
       "      <td>94.519135</td>\n",
       "      <td>123.286154</td>\n",
       "      <td>75.458961</td>\n",
       "      <td>111.831234</td>\n",
       "      <td>111.871202</td>\n",
       "      <td>99.733563</td>\n",
       "      <td>100.697358</td>\n",
       "      <td>97.568328</td>\n",
       "      <td>1105</td>\n",
       "    </tr>\n",
       "  </tbody>\n",
       "</table>\n",
       "<p>5 rows × 21 columns</p>\n",
       "</div>"
      ],
      "text/plain": [
       "   feature_1  feature_2  feature_3  feature_4  feature_5   feature_6  \\\n",
       "0  -0.043457  -0.027918   1.473594 -10.309556  -1.000000  145.373247   \n",
       "1  -1.535978   0.999851  23.019753  38.430092   1.000000 -110.045207   \n",
       "2  11.567708   0.608310   1.873323   6.412821   0.999995 -280.186852   \n",
       "3   9.220074   0.999864   5.041939 -12.692120  -1.000000  164.773793   \n",
       "4  -3.025434  -0.594711   5.912259 -14.922129  -1.000000    9.546673   \n",
       "\n",
       "    feature_7  feature_8   feature_9  feature_10  ...  feature_12  feature_13  \\\n",
       "0    0.001888   2.555947  -64.208613    0.470329  ...           B   83.317907   \n",
       "1    2.359228   0.571917 -110.318854   -2.620978  ...           D  114.881621   \n",
       "2  133.811870   1.160380 -206.238816   -1.006502  ...           B  145.833459   \n",
       "3   85.009772  -1.401234   92.624296    2.712139  ...           C   98.150579   \n",
       "4    9.153251  -0.157479 -175.895074   -0.832795  ...           C   94.519135   \n",
       "\n",
       "   feature_14  feature_15  feature_16  feature_17  feature_18  feature_19  \\\n",
       "0   85.385030  120.550153   59.736520   64.325558  107.833753   85.853573   \n",
       "1   79.711086   68.505986  116.330797   75.365722  104.229006   90.842232   \n",
       "2  115.159171   64.417992   98.846694   66.381070   82.118547   96.837671   \n",
       "3   78.620349  120.176496  104.297092   89.318362   73.791588   71.870016   \n",
       "4  123.286154   75.458961  111.831234  111.871202   99.733563  100.697358   \n",
       "\n",
       "   feature_20  int_target  \n",
       "0  104.466108       17353  \n",
       "1   95.232654        1214  \n",
       "2  103.887599       16094  \n",
       "3   68.397346       24168  \n",
       "4   97.568328        1105  \n",
       "\n",
       "[5 rows x 21 columns]"
      ]
     },
     "execution_count": 4,
     "metadata": {},
     "output_type": "execute_result"
    }
   ],
   "source": [
    "dataset.head()"
   ]
  },
  {
   "cell_type": "code",
   "execution_count": 5,
   "id": "95c102e5-ad56-4c90-9a8a-0c38c1805f04",
   "metadata": {},
   "outputs": [
    {
     "data": {
      "text/html": [
       "<div>\n",
       "<style scoped>\n",
       "    .dataframe tbody tr th:only-of-type {\n",
       "        vertical-align: middle;\n",
       "    }\n",
       "\n",
       "    .dataframe tbody tr th {\n",
       "        vertical-align: top;\n",
       "    }\n",
       "\n",
       "    .dataframe thead th {\n",
       "        text-align: right;\n",
       "    }\n",
       "</style>\n",
       "<table border=\"1\" class=\"dataframe\">\n",
       "  <thead>\n",
       "    <tr style=\"text-align: right;\">\n",
       "      <th></th>\n",
       "      <th>feature_1</th>\n",
       "      <th>feature_2</th>\n",
       "      <th>feature_3</th>\n",
       "      <th>feature_4</th>\n",
       "      <th>feature_5</th>\n",
       "      <th>feature_6</th>\n",
       "      <th>feature_7</th>\n",
       "      <th>feature_8</th>\n",
       "      <th>feature_9</th>\n",
       "      <th>feature_10</th>\n",
       "      <th>feature_11</th>\n",
       "      <th>feature_13</th>\n",
       "      <th>feature_14</th>\n",
       "      <th>feature_15</th>\n",
       "      <th>feature_16</th>\n",
       "      <th>feature_17</th>\n",
       "      <th>feature_18</th>\n",
       "      <th>feature_19</th>\n",
       "      <th>feature_20</th>\n",
       "      <th>int_target</th>\n",
       "    </tr>\n",
       "  </thead>\n",
       "  <tbody>\n",
       "    <tr>\n",
       "      <th>count</th>\n",
       "      <td>9000.000000</td>\n",
       "      <td>9000.000000</td>\n",
       "      <td>9000.000000</td>\n",
       "      <td>9000.000000</td>\n",
       "      <td>9000.000000</td>\n",
       "      <td>9000.000000</td>\n",
       "      <td>9000.000000</td>\n",
       "      <td>9000.000000</td>\n",
       "      <td>9000.000000</td>\n",
       "      <td>9000.000000</td>\n",
       "      <td>9000.000000</td>\n",
       "      <td>9000.000000</td>\n",
       "      <td>9000.000000</td>\n",
       "      <td>9000.000000</td>\n",
       "      <td>9000.000000</td>\n",
       "      <td>9000.000000</td>\n",
       "      <td>9000.000000</td>\n",
       "      <td>9000.000000</td>\n",
       "      <td>9000.000000</td>\n",
       "      <td>9000.000000</td>\n",
       "    </tr>\n",
       "    <tr>\n",
       "      <th>mean</th>\n",
       "      <td>9.892699</td>\n",
       "      <td>0.051539</td>\n",
       "      <td>13.691801</td>\n",
       "      <td>-5.280291</td>\n",
       "      <td>-0.190470</td>\n",
       "      <td>33.328407</td>\n",
       "      <td>353.997548</td>\n",
       "      <td>0.322612</td>\n",
       "      <td>-69.936887</td>\n",
       "      <td>-0.334325</td>\n",
       "      <td>0.328602</td>\n",
       "      <td>99.738087</td>\n",
       "      <td>99.862703</td>\n",
       "      <td>99.764452</td>\n",
       "      <td>99.958384</td>\n",
       "      <td>100.053203</td>\n",
       "      <td>100.209235</td>\n",
       "      <td>100.150711</td>\n",
       "      <td>99.819907</td>\n",
       "      <td>14962.016000</td>\n",
       "    </tr>\n",
       "    <tr>\n",
       "      <th>std</th>\n",
       "      <td>16.005016</td>\n",
       "      <td>0.708241</td>\n",
       "      <td>77.058634</td>\n",
       "      <td>26.814772</td>\n",
       "      <td>0.966878</td>\n",
       "      <td>193.282240</td>\n",
       "      <td>482.976481</td>\n",
       "      <td>1.928390</td>\n",
       "      <td>130.805512</td>\n",
       "      <td>1.802465</td>\n",
       "      <td>1.949699</td>\n",
       "      <td>19.970516</td>\n",
       "      <td>20.059934</td>\n",
       "      <td>19.816391</td>\n",
       "      <td>20.073887</td>\n",
       "      <td>20.005191</td>\n",
       "      <td>19.839667</td>\n",
       "      <td>20.084744</td>\n",
       "      <td>20.072153</td>\n",
       "      <td>8507.039575</td>\n",
       "    </tr>\n",
       "    <tr>\n",
       "      <th>min</th>\n",
       "      <td>-55.674815</td>\n",
       "      <td>-1.000000</td>\n",
       "      <td>0.002306</td>\n",
       "      <td>-90.266818</td>\n",
       "      <td>-1.000000</td>\n",
       "      <td>-782.730110</td>\n",
       "      <td>0.000032</td>\n",
       "      <td>-8.785694</td>\n",
       "      <td>-562.750841</td>\n",
       "      <td>-6.678488</td>\n",
       "      <td>-6.817115</td>\n",
       "      <td>23.296434</td>\n",
       "      <td>21.404151</td>\n",
       "      <td>20.462943</td>\n",
       "      <td>31.695377</td>\n",
       "      <td>25.278459</td>\n",
       "      <td>6.108243</td>\n",
       "      <td>29.523073</td>\n",
       "      <td>28.591199</td>\n",
       "      <td>501.000000</td>\n",
       "    </tr>\n",
       "    <tr>\n",
       "      <th>25%</th>\n",
       "      <td>-0.590266</td>\n",
       "      <td>-0.652740</td>\n",
       "      <td>0.891789</td>\n",
       "      <td>-24.131903</td>\n",
       "      <td>-1.000000</td>\n",
       "      <td>-88.607265</td>\n",
       "      <td>38.261808</td>\n",
       "      <td>-0.867972</td>\n",
       "      <td>-155.988559</td>\n",
       "      <td>-1.569338</td>\n",
       "      <td>-0.997933</td>\n",
       "      <td>86.416262</td>\n",
       "      <td>86.377084</td>\n",
       "      <td>86.184816</td>\n",
       "      <td>86.146061</td>\n",
       "      <td>86.513425</td>\n",
       "      <td>86.753705</td>\n",
       "      <td>86.684625</td>\n",
       "      <td>86.163540</td>\n",
       "      <td>7461.750000</td>\n",
       "    </tr>\n",
       "    <tr>\n",
       "      <th>50%</th>\n",
       "      <td>10.032527</td>\n",
       "      <td>0.108589</td>\n",
       "      <td>2.771781</td>\n",
       "      <td>-6.535842</td>\n",
       "      <td>-0.999996</td>\n",
       "      <td>47.154805</td>\n",
       "      <td>169.202144</td>\n",
       "      <td>0.454511</td>\n",
       "      <td>-80.249681</td>\n",
       "      <td>-0.374527</td>\n",
       "      <td>0.361400</td>\n",
       "      <td>99.753333</td>\n",
       "      <td>99.914720</td>\n",
       "      <td>99.938163</td>\n",
       "      <td>99.956294</td>\n",
       "      <td>99.644334</td>\n",
       "      <td>100.166669</td>\n",
       "      <td>100.179503</td>\n",
       "      <td>99.942090</td>\n",
       "      <td>14878.500000</td>\n",
       "    </tr>\n",
       "    <tr>\n",
       "      <th>75%</th>\n",
       "      <td>20.577624</td>\n",
       "      <td>0.750147</td>\n",
       "      <td>8.313018</td>\n",
       "      <td>12.151035</td>\n",
       "      <td>1.000000</td>\n",
       "      <td>165.882796</td>\n",
       "      <td>476.800547</td>\n",
       "      <td>1.636826</td>\n",
       "      <td>10.046369</td>\n",
       "      <td>0.874218</td>\n",
       "      <td>1.690059</td>\n",
       "      <td>113.192601</td>\n",
       "      <td>113.550065</td>\n",
       "      <td>113.274773</td>\n",
       "      <td>113.503300</td>\n",
       "      <td>113.486201</td>\n",
       "      <td>113.389489</td>\n",
       "      <td>113.657307</td>\n",
       "      <td>113.275163</td>\n",
       "      <td>22404.000000</td>\n",
       "    </tr>\n",
       "    <tr>\n",
       "      <th>max</th>\n",
       "      <td>71.408515</td>\n",
       "      <td>1.000000</td>\n",
       "      <td>4195.458665</td>\n",
       "      <td>96.967006</td>\n",
       "      <td>1.000000</td>\n",
       "      <td>689.183091</td>\n",
       "      <td>5099.175987</td>\n",
       "      <td>7.563691</td>\n",
       "      <td>454.622574</td>\n",
       "      <td>6.605742</td>\n",
       "      <td>7.314190</td>\n",
       "      <td>169.972815</td>\n",
       "      <td>169.211534</td>\n",
       "      <td>176.896232</td>\n",
       "      <td>180.756967</td>\n",
       "      <td>182.022092</td>\n",
       "      <td>173.917343</td>\n",
       "      <td>171.521586</td>\n",
       "      <td>178.220128</td>\n",
       "      <td>29631.000000</td>\n",
       "    </tr>\n",
       "  </tbody>\n",
       "</table>\n",
       "</div>"
      ],
      "text/plain": [
       "         feature_1    feature_2    feature_3    feature_4    feature_5  \\\n",
       "count  9000.000000  9000.000000  9000.000000  9000.000000  9000.000000   \n",
       "mean      9.892699     0.051539    13.691801    -5.280291    -0.190470   \n",
       "std      16.005016     0.708241    77.058634    26.814772     0.966878   \n",
       "min     -55.674815    -1.000000     0.002306   -90.266818    -1.000000   \n",
       "25%      -0.590266    -0.652740     0.891789   -24.131903    -1.000000   \n",
       "50%      10.032527     0.108589     2.771781    -6.535842    -0.999996   \n",
       "75%      20.577624     0.750147     8.313018    12.151035     1.000000   \n",
       "max      71.408515     1.000000  4195.458665    96.967006     1.000000   \n",
       "\n",
       "         feature_6    feature_7    feature_8    feature_9   feature_10  \\\n",
       "count  9000.000000  9000.000000  9000.000000  9000.000000  9000.000000   \n",
       "mean     33.328407   353.997548     0.322612   -69.936887    -0.334325   \n",
       "std     193.282240   482.976481     1.928390   130.805512     1.802465   \n",
       "min    -782.730110     0.000032    -8.785694  -562.750841    -6.678488   \n",
       "25%     -88.607265    38.261808    -0.867972  -155.988559    -1.569338   \n",
       "50%      47.154805   169.202144     0.454511   -80.249681    -0.374527   \n",
       "75%     165.882796   476.800547     1.636826    10.046369     0.874218   \n",
       "max     689.183091  5099.175987     7.563691   454.622574     6.605742   \n",
       "\n",
       "        feature_11   feature_13   feature_14   feature_15   feature_16  \\\n",
       "count  9000.000000  9000.000000  9000.000000  9000.000000  9000.000000   \n",
       "mean      0.328602    99.738087    99.862703    99.764452    99.958384   \n",
       "std       1.949699    19.970516    20.059934    19.816391    20.073887   \n",
       "min      -6.817115    23.296434    21.404151    20.462943    31.695377   \n",
       "25%      -0.997933    86.416262    86.377084    86.184816    86.146061   \n",
       "50%       0.361400    99.753333    99.914720    99.938163    99.956294   \n",
       "75%       1.690059   113.192601   113.550065   113.274773   113.503300   \n",
       "max       7.314190   169.972815   169.211534   176.896232   180.756967   \n",
       "\n",
       "        feature_17   feature_18   feature_19   feature_20    int_target  \n",
       "count  9000.000000  9000.000000  9000.000000  9000.000000   9000.000000  \n",
       "mean    100.053203   100.209235   100.150711    99.819907  14962.016000  \n",
       "std      20.005191    19.839667    20.084744    20.072153   8507.039575  \n",
       "min      25.278459     6.108243    29.523073    28.591199    501.000000  \n",
       "25%      86.513425    86.753705    86.684625    86.163540   7461.750000  \n",
       "50%      99.644334   100.166669   100.179503    99.942090  14878.500000  \n",
       "75%     113.486201   113.389489   113.657307   113.275163  22404.000000  \n",
       "max     182.022092   173.917343   171.521586   178.220128  29631.000000  "
      ]
     },
     "execution_count": 5,
     "metadata": {},
     "output_type": "execute_result"
    }
   ],
   "source": [
    "dataset.describe()"
   ]
  },
  {
   "cell_type": "code",
   "execution_count": 6,
   "id": "eb539021-121d-4ba7-9261-5064a2245092",
   "metadata": {},
   "outputs": [
    {
     "name": "stdout",
     "output_type": "stream",
     "text": [
      "<class 'pandas.core.frame.DataFrame'>\n",
      "RangeIndex: 9000 entries, 0 to 8999\n",
      "Data columns (total 21 columns):\n",
      " #   Column      Non-Null Count  Dtype  \n",
      "---  ------      --------------  -----  \n",
      " 0   feature_1   9000 non-null   float64\n",
      " 1   feature_2   9000 non-null   float64\n",
      " 2   feature_3   9000 non-null   float64\n",
      " 3   feature_4   9000 non-null   float64\n",
      " 4   feature_5   9000 non-null   float64\n",
      " 5   feature_6   9000 non-null   float64\n",
      " 6   feature_7   9000 non-null   float64\n",
      " 7   feature_8   9000 non-null   float64\n",
      " 8   feature_9   9000 non-null   float64\n",
      " 9   feature_10  9000 non-null   float64\n",
      " 10  feature_11  9000 non-null   float64\n",
      " 11  feature_12  9000 non-null   object \n",
      " 12  feature_13  9000 non-null   float64\n",
      " 13  feature_14  9000 non-null   float64\n",
      " 14  feature_15  9000 non-null   float64\n",
      " 15  feature_16  9000 non-null   float64\n",
      " 16  feature_17  9000 non-null   float64\n",
      " 17  feature_18  9000 non-null   float64\n",
      " 18  feature_19  9000 non-null   float64\n",
      " 19  feature_20  9000 non-null   float64\n",
      " 20  int_target  9000 non-null   int64  \n",
      "dtypes: float64(19), int64(1), object(1)\n",
      "memory usage: 1.4+ MB\n"
     ]
    }
   ],
   "source": [
    "dataset.info()"
   ]
  },
  {
   "cell_type": "code",
   "execution_count": 7,
   "id": "c53e585c-f8ea-4d89-a054-7dc8783376bb",
   "metadata": {},
   "outputs": [
    {
     "data": {
      "text/plain": [
       "feature_1     0\n",
       "feature_2     0\n",
       "feature_3     0\n",
       "feature_4     0\n",
       "feature_5     0\n",
       "feature_6     0\n",
       "feature_7     0\n",
       "feature_8     0\n",
       "feature_9     0\n",
       "feature_10    0\n",
       "feature_11    0\n",
       "feature_12    0\n",
       "feature_13    0\n",
       "feature_14    0\n",
       "feature_15    0\n",
       "feature_16    0\n",
       "feature_17    0\n",
       "feature_18    0\n",
       "feature_19    0\n",
       "feature_20    0\n",
       "int_target    0\n",
       "dtype: int64"
      ]
     },
     "execution_count": 7,
     "metadata": {},
     "output_type": "execute_result"
    }
   ],
   "source": [
    "dataset.isnull().sum()"
   ]
  },
  {
   "cell_type": "code",
   "execution_count": 24,
   "id": "2eac13bc-52f4-4442-8eb5-8f0ad837d767",
   "metadata": {},
   "outputs": [
    {
     "data": {
      "text/plain": [
       "feature_12\n",
       "B    2288\n",
       "C    2265\n",
       "D    2230\n",
       "A    2217\n",
       "Name: count, dtype: int64"
      ]
     },
     "execution_count": 24,
     "metadata": {},
     "output_type": "execute_result"
    }
   ],
   "source": [
    "dataset['feature_12'].value_counts()"
   ]
  },
  {
   "cell_type": "markdown",
   "id": "24f19134-e190-4d07-a9ba-eb2b4bf2d318",
   "metadata": {},
   "source": [
    "3. Разделите ваш датасет на таргет и признаки, а также поделите ваш датасет на тренировочный и тестовый"
   ]
  },
  {
   "cell_type": "code",
   "execution_count": 25,
   "id": "a36bb9ff-ebd0-43d6-a69f-d91b505b237e",
   "metadata": {},
   "outputs": [],
   "source": [
    "X = dataset.drop('int_target', axis=1)\n",
    "y = dataset['int_target']"
   ]
  },
  {
   "cell_type": "code",
   "execution_count": 26,
   "id": "d4fba379-75bc-4261-b7da-319dffb9d090",
   "metadata": {},
   "outputs": [],
   "source": [
    "X_train, X_test, y_train, y_test = train_test_split(X, y, test_size=0.3)"
   ]
  },
  {
   "cell_type": "markdown",
   "id": "8d83deac-a0ee-4d7d-9787-00d2a18283c6",
   "metadata": {},
   "source": [
    "4. Надеюсь вы заметили что у вас есть категориальный признак который имеет текстовый формат.<br>\n",
    "Переведите этот признак в числовое значение"
   ]
  },
  {
   "cell_type": "code",
   "execution_count": 27,
   "id": "c17f1b3a-9b3d-4855-ac9b-20038e9a8900",
   "metadata": {},
   "outputs": [
    {
     "data": {
      "text/html": [
       "<div>\n",
       "<style scoped>\n",
       "    .dataframe tbody tr th:only-of-type {\n",
       "        vertical-align: middle;\n",
       "    }\n",
       "\n",
       "    .dataframe tbody tr th {\n",
       "        vertical-align: top;\n",
       "    }\n",
       "\n",
       "    .dataframe thead th {\n",
       "        text-align: right;\n",
       "    }\n",
       "</style>\n",
       "<table border=\"1\" class=\"dataframe\">\n",
       "  <thead>\n",
       "    <tr style=\"text-align: right;\">\n",
       "      <th></th>\n",
       "      <th>feature_12</th>\n",
       "    </tr>\n",
       "  </thead>\n",
       "  <tbody>\n",
       "    <tr>\n",
       "      <th>0</th>\n",
       "      <td>B</td>\n",
       "    </tr>\n",
       "    <tr>\n",
       "      <th>1</th>\n",
       "      <td>D</td>\n",
       "    </tr>\n",
       "    <tr>\n",
       "      <th>2</th>\n",
       "      <td>B</td>\n",
       "    </tr>\n",
       "    <tr>\n",
       "      <th>3</th>\n",
       "      <td>C</td>\n",
       "    </tr>\n",
       "    <tr>\n",
       "      <th>4</th>\n",
       "      <td>C</td>\n",
       "    </tr>\n",
       "    <tr>\n",
       "      <th>...</th>\n",
       "      <td>...</td>\n",
       "    </tr>\n",
       "    <tr>\n",
       "      <th>8995</th>\n",
       "      <td>D</td>\n",
       "    </tr>\n",
       "    <tr>\n",
       "      <th>8996</th>\n",
       "      <td>D</td>\n",
       "    </tr>\n",
       "    <tr>\n",
       "      <th>8997</th>\n",
       "      <td>B</td>\n",
       "    </tr>\n",
       "    <tr>\n",
       "      <th>8998</th>\n",
       "      <td>D</td>\n",
       "    </tr>\n",
       "    <tr>\n",
       "      <th>8999</th>\n",
       "      <td>B</td>\n",
       "    </tr>\n",
       "  </tbody>\n",
       "</table>\n",
       "<p>9000 rows × 1 columns</p>\n",
       "</div>"
      ],
      "text/plain": [
       "     feature_12\n",
       "0             B\n",
       "1             D\n",
       "2             B\n",
       "3             C\n",
       "4             C\n",
       "...         ...\n",
       "8995          D\n",
       "8996          D\n",
       "8997          B\n",
       "8998          D\n",
       "8999          B\n",
       "\n",
       "[9000 rows x 1 columns]"
      ]
     },
     "execution_count": 27,
     "metadata": {},
     "output_type": "execute_result"
    }
   ],
   "source": [
    "ohe = OneHotEncoder()\n",
    "x_dummy = pd.DataFrame(X['feature_12'])\n",
    "x_dummy"
   ]
  },
  {
   "cell_type": "code",
   "execution_count": 28,
   "id": "407ca4cf-30a2-4008-971f-586de18697e7",
   "metadata": {},
   "outputs": [
    {
     "data": {
      "text/html": [
       "<style>#sk-container-id-3 {color: black;background-color: white;}#sk-container-id-3 pre{padding: 0;}#sk-container-id-3 div.sk-toggleable {background-color: white;}#sk-container-id-3 label.sk-toggleable__label {cursor: pointer;display: block;width: 100%;margin-bottom: 0;padding: 0.3em;box-sizing: border-box;text-align: center;}#sk-container-id-3 label.sk-toggleable__label-arrow:before {content: \"▸\";float: left;margin-right: 0.25em;color: #696969;}#sk-container-id-3 label.sk-toggleable__label-arrow:hover:before {color: black;}#sk-container-id-3 div.sk-estimator:hover label.sk-toggleable__label-arrow:before {color: black;}#sk-container-id-3 div.sk-toggleable__content {max-height: 0;max-width: 0;overflow: hidden;text-align: left;background-color: #f0f8ff;}#sk-container-id-3 div.sk-toggleable__content pre {margin: 0.2em;color: black;border-radius: 0.25em;background-color: #f0f8ff;}#sk-container-id-3 input.sk-toggleable__control:checked~div.sk-toggleable__content {max-height: 200px;max-width: 100%;overflow: auto;}#sk-container-id-3 input.sk-toggleable__control:checked~label.sk-toggleable__label-arrow:before {content: \"▾\";}#sk-container-id-3 div.sk-estimator input.sk-toggleable__control:checked~label.sk-toggleable__label {background-color: #d4ebff;}#sk-container-id-3 div.sk-label input.sk-toggleable__control:checked~label.sk-toggleable__label {background-color: #d4ebff;}#sk-container-id-3 input.sk-hidden--visually {border: 0;clip: rect(1px 1px 1px 1px);clip: rect(1px, 1px, 1px, 1px);height: 1px;margin: -1px;overflow: hidden;padding: 0;position: absolute;width: 1px;}#sk-container-id-3 div.sk-estimator {font-family: monospace;background-color: #f0f8ff;border: 1px dotted black;border-radius: 0.25em;box-sizing: border-box;margin-bottom: 0.5em;}#sk-container-id-3 div.sk-estimator:hover {background-color: #d4ebff;}#sk-container-id-3 div.sk-parallel-item::after {content: \"\";width: 100%;border-bottom: 1px solid gray;flex-grow: 1;}#sk-container-id-3 div.sk-label:hover label.sk-toggleable__label {background-color: #d4ebff;}#sk-container-id-3 div.sk-serial::before {content: \"\";position: absolute;border-left: 1px solid gray;box-sizing: border-box;top: 0;bottom: 0;left: 50%;z-index: 0;}#sk-container-id-3 div.sk-serial {display: flex;flex-direction: column;align-items: center;background-color: white;padding-right: 0.2em;padding-left: 0.2em;position: relative;}#sk-container-id-3 div.sk-item {position: relative;z-index: 1;}#sk-container-id-3 div.sk-parallel {display: flex;align-items: stretch;justify-content: center;background-color: white;position: relative;}#sk-container-id-3 div.sk-item::before, #sk-container-id-3 div.sk-parallel-item::before {content: \"\";position: absolute;border-left: 1px solid gray;box-sizing: border-box;top: 0;bottom: 0;left: 50%;z-index: -1;}#sk-container-id-3 div.sk-parallel-item {display: flex;flex-direction: column;z-index: 1;position: relative;background-color: white;}#sk-container-id-3 div.sk-parallel-item:first-child::after {align-self: flex-end;width: 50%;}#sk-container-id-3 div.sk-parallel-item:last-child::after {align-self: flex-start;width: 50%;}#sk-container-id-3 div.sk-parallel-item:only-child::after {width: 0;}#sk-container-id-3 div.sk-dashed-wrapped {border: 1px dashed gray;margin: 0 0.4em 0.5em 0.4em;box-sizing: border-box;padding-bottom: 0.4em;background-color: white;}#sk-container-id-3 div.sk-label label {font-family: monospace;font-weight: bold;display: inline-block;line-height: 1.2em;}#sk-container-id-3 div.sk-label-container {text-align: center;}#sk-container-id-3 div.sk-container {/* jupyter's `normalize.less` sets `[hidden] { display: none; }` but bootstrap.min.css set `[hidden] { display: none !important; }` so we also need the `!important` here to be able to override the default hidden behavior on the sphinx rendered scikit-learn.org. See: https://github.com/scikit-learn/scikit-learn/issues/21755 */display: inline-block !important;position: relative;}#sk-container-id-3 div.sk-text-repr-fallback {display: none;}</style><div id=\"sk-container-id-3\" class=\"sk-top-container\"><div class=\"sk-text-repr-fallback\"><pre>OneHotEncoder()</pre><b>In a Jupyter environment, please rerun this cell to show the HTML representation or trust the notebook. <br />On GitHub, the HTML representation is unable to render, please try loading this page with nbviewer.org.</b></div><div class=\"sk-container\" hidden><div class=\"sk-item\"><div class=\"sk-estimator sk-toggleable\"><input class=\"sk-toggleable__control sk-hidden--visually\" id=\"sk-estimator-id-3\" type=\"checkbox\" checked><label for=\"sk-estimator-id-3\" class=\"sk-toggleable__label sk-toggleable__label-arrow\">OneHotEncoder</label><div class=\"sk-toggleable__content\"><pre>OneHotEncoder()</pre></div></div></div></div></div>"
      ],
      "text/plain": [
       "OneHotEncoder()"
      ]
     },
     "execution_count": 28,
     "metadata": {},
     "output_type": "execute_result"
    }
   ],
   "source": [
    "ohe.fit(x_dummy)"
   ]
  },
  {
   "cell_type": "code",
   "execution_count": 29,
   "id": "84b8535c-e883-47d9-9e4d-a2be47cd4b54",
   "metadata": {},
   "outputs": [
    {
     "data": {
      "text/plain": [
       "array([[0., 1., 0., 0.],\n",
       "       [0., 0., 0., 1.],\n",
       "       [0., 1., 0., 0.],\n",
       "       ...,\n",
       "       [0., 1., 0., 0.],\n",
       "       [0., 0., 0., 1.],\n",
       "       [0., 1., 0., 0.]])"
      ]
     },
     "execution_count": 29,
     "metadata": {},
     "output_type": "execute_result"
    }
   ],
   "source": [
    "new_features = ohe.transform(x_dummy).toarray()\n",
    "new_features"
   ]
  },
  {
   "cell_type": "code",
   "execution_count": 30,
   "id": "e1c74bef-14e6-4868-bbfc-cabe8821b0ad",
   "metadata": {},
   "outputs": [],
   "source": [
    "new_features = pd.DataFrame(new_features, columns = ohe.categories_[0])\n",
    "new_dataset = pd.concat([new_features, X], axis = 1)\n",
    "new_dataset = new_dataset.drop(columns=['feature_12'])\n",
    "X = new_dataset"
   ]
  },
  {
   "cell_type": "code",
   "execution_count": 31,
   "id": "87827eb9-03dc-49b8-82d9-0372d8823824",
   "metadata": {},
   "outputs": [],
   "source": [
    "x_train, x_test, y_train, y_test = train_test_split(X, y, test_size = 0.3, random_state = 105)"
   ]
  },
  {
   "cell_type": "code",
   "execution_count": null,
   "id": "a50476d1-0dbe-4332-b676-678bf18c9931",
   "metadata": {},
   "outputs": [],
   "source": []
  },
  {
   "cell_type": "markdown",
   "id": "abf0e5c7-de68-4da9-91dc-b7ed3d4a1f95",
   "metadata": {},
   "source": [
    "5. Надеюсь вы заметили что масштабы наших признаков сильно разнятся.<br>\n",
    "Давайте применим одно единое масштабирование на все наши признаки."
   ]
  },
  {
   "cell_type": "code",
   "execution_count": 32,
   "id": "6fc63192-2f84-4136-ab13-c8a9a2a0ae9f",
   "metadata": {},
   "outputs": [],
   "source": [
    "scaler = MinMaxScaler()\n",
    "x_train_scaled_data = scaler.fit_transform(x_train)\n",
    "x_train_scaled = pd.DataFrame(x_train_scaled_data, columns=x_train.columns)\n",
    "\n",
    "x_test_scaled_data = scaler.transform(x_test)\n",
    "x_test_scaled = pd.DataFrame(x_test_scaled_data, columns=x_test.columns)\n"
   ]
  },
  {
   "cell_type": "markdown",
   "id": "b6136803-d092-4a97-ac6f-509159ad37dd",
   "metadata": {},
   "source": [
    "6. Постройте модель линейной регрессии.<br>\n",
    "Оцените модель с помощью метрики RMSE, а также покажите статистические метрики"
   ]
  },
  {
   "cell_type": "code",
   "execution_count": 33,
   "id": "d515877e-013f-4167-84bc-aec0da6c4e3f",
   "metadata": {},
   "outputs": [
    {
     "data": {
      "text/html": [
       "<style>#sk-container-id-4 {color: black;background-color: white;}#sk-container-id-4 pre{padding: 0;}#sk-container-id-4 div.sk-toggleable {background-color: white;}#sk-container-id-4 label.sk-toggleable__label {cursor: pointer;display: block;width: 100%;margin-bottom: 0;padding: 0.3em;box-sizing: border-box;text-align: center;}#sk-container-id-4 label.sk-toggleable__label-arrow:before {content: \"▸\";float: left;margin-right: 0.25em;color: #696969;}#sk-container-id-4 label.sk-toggleable__label-arrow:hover:before {color: black;}#sk-container-id-4 div.sk-estimator:hover label.sk-toggleable__label-arrow:before {color: black;}#sk-container-id-4 div.sk-toggleable__content {max-height: 0;max-width: 0;overflow: hidden;text-align: left;background-color: #f0f8ff;}#sk-container-id-4 div.sk-toggleable__content pre {margin: 0.2em;color: black;border-radius: 0.25em;background-color: #f0f8ff;}#sk-container-id-4 input.sk-toggleable__control:checked~div.sk-toggleable__content {max-height: 200px;max-width: 100%;overflow: auto;}#sk-container-id-4 input.sk-toggleable__control:checked~label.sk-toggleable__label-arrow:before {content: \"▾\";}#sk-container-id-4 div.sk-estimator input.sk-toggleable__control:checked~label.sk-toggleable__label {background-color: #d4ebff;}#sk-container-id-4 div.sk-label input.sk-toggleable__control:checked~label.sk-toggleable__label {background-color: #d4ebff;}#sk-container-id-4 input.sk-hidden--visually {border: 0;clip: rect(1px 1px 1px 1px);clip: rect(1px, 1px, 1px, 1px);height: 1px;margin: -1px;overflow: hidden;padding: 0;position: absolute;width: 1px;}#sk-container-id-4 div.sk-estimator {font-family: monospace;background-color: #f0f8ff;border: 1px dotted black;border-radius: 0.25em;box-sizing: border-box;margin-bottom: 0.5em;}#sk-container-id-4 div.sk-estimator:hover {background-color: #d4ebff;}#sk-container-id-4 div.sk-parallel-item::after {content: \"\";width: 100%;border-bottom: 1px solid gray;flex-grow: 1;}#sk-container-id-4 div.sk-label:hover label.sk-toggleable__label {background-color: #d4ebff;}#sk-container-id-4 div.sk-serial::before {content: \"\";position: absolute;border-left: 1px solid gray;box-sizing: border-box;top: 0;bottom: 0;left: 50%;z-index: 0;}#sk-container-id-4 div.sk-serial {display: flex;flex-direction: column;align-items: center;background-color: white;padding-right: 0.2em;padding-left: 0.2em;position: relative;}#sk-container-id-4 div.sk-item {position: relative;z-index: 1;}#sk-container-id-4 div.sk-parallel {display: flex;align-items: stretch;justify-content: center;background-color: white;position: relative;}#sk-container-id-4 div.sk-item::before, #sk-container-id-4 div.sk-parallel-item::before {content: \"\";position: absolute;border-left: 1px solid gray;box-sizing: border-box;top: 0;bottom: 0;left: 50%;z-index: -1;}#sk-container-id-4 div.sk-parallel-item {display: flex;flex-direction: column;z-index: 1;position: relative;background-color: white;}#sk-container-id-4 div.sk-parallel-item:first-child::after {align-self: flex-end;width: 50%;}#sk-container-id-4 div.sk-parallel-item:last-child::after {align-self: flex-start;width: 50%;}#sk-container-id-4 div.sk-parallel-item:only-child::after {width: 0;}#sk-container-id-4 div.sk-dashed-wrapped {border: 1px dashed gray;margin: 0 0.4em 0.5em 0.4em;box-sizing: border-box;padding-bottom: 0.4em;background-color: white;}#sk-container-id-4 div.sk-label label {font-family: monospace;font-weight: bold;display: inline-block;line-height: 1.2em;}#sk-container-id-4 div.sk-label-container {text-align: center;}#sk-container-id-4 div.sk-container {/* jupyter's `normalize.less` sets `[hidden] { display: none; }` but bootstrap.min.css set `[hidden] { display: none !important; }` so we also need the `!important` here to be able to override the default hidden behavior on the sphinx rendered scikit-learn.org. See: https://github.com/scikit-learn/scikit-learn/issues/21755 */display: inline-block !important;position: relative;}#sk-container-id-4 div.sk-text-repr-fallback {display: none;}</style><div id=\"sk-container-id-4\" class=\"sk-top-container\"><div class=\"sk-text-repr-fallback\"><pre>LinearRegression()</pre><b>In a Jupyter environment, please rerun this cell to show the HTML representation or trust the notebook. <br />On GitHub, the HTML representation is unable to render, please try loading this page with nbviewer.org.</b></div><div class=\"sk-container\" hidden><div class=\"sk-item\"><div class=\"sk-estimator sk-toggleable\"><input class=\"sk-toggleable__control sk-hidden--visually\" id=\"sk-estimator-id-4\" type=\"checkbox\" checked><label for=\"sk-estimator-id-4\" class=\"sk-toggleable__label sk-toggleable__label-arrow\">LinearRegression</label><div class=\"sk-toggleable__content\"><pre>LinearRegression()</pre></div></div></div></div></div>"
      ],
      "text/plain": [
       "LinearRegression()"
      ]
     },
     "execution_count": 33,
     "metadata": {},
     "output_type": "execute_result"
    }
   ],
   "source": [
    "lin_model = LinearRegression()\n",
    "lin_model.fit(x_train_scaled, y_train)"
   ]
  },
  {
   "cell_type": "code",
   "execution_count": 34,
   "id": "2f251f80-f608-4d2e-82dd-3347e885c323",
   "metadata": {},
   "outputs": [
    {
     "data": {
      "text/plain": [
       "6760.135416770784"
      ]
     },
     "execution_count": 34,
     "metadata": {},
     "output_type": "execute_result"
    }
   ],
   "source": [
    "linear_prediction = lin_model.predict(x_test_scaled)\n",
    "rmse = MSE(y_test, linear_prediction) ** (1/2)\n",
    "rmse"
   ]
  },
  {
   "cell_type": "code",
   "execution_count": 35,
   "id": "b8216758-c259-4ed5-b535-4e86d86f8cf6",
   "metadata": {},
   "outputs": [
    {
     "data": {
      "text/html": [
       "<div>\n",
       "<style scoped>\n",
       "    .dataframe tbody tr th:only-of-type {\n",
       "        vertical-align: middle;\n",
       "    }\n",
       "\n",
       "    .dataframe tbody tr th {\n",
       "        vertical-align: top;\n",
       "    }\n",
       "\n",
       "    .dataframe thead th {\n",
       "        text-align: right;\n",
       "    }\n",
       "</style>\n",
       "<table border=\"1\" class=\"dataframe\">\n",
       "  <thead>\n",
       "    <tr style=\"text-align: right;\">\n",
       "      <th></th>\n",
       "      <th>feature_1</th>\n",
       "      <th>feature_2</th>\n",
       "      <th>feature_3</th>\n",
       "      <th>feature_4</th>\n",
       "      <th>feature_5</th>\n",
       "      <th>feature_6</th>\n",
       "      <th>feature_7</th>\n",
       "      <th>feature_8</th>\n",
       "      <th>feature_9</th>\n",
       "      <th>feature_10</th>\n",
       "      <th>feature_11</th>\n",
       "      <th>feature_13</th>\n",
       "      <th>feature_14</th>\n",
       "      <th>feature_15</th>\n",
       "      <th>feature_16</th>\n",
       "      <th>feature_17</th>\n",
       "      <th>feature_18</th>\n",
       "      <th>feature_19</th>\n",
       "      <th>feature_20</th>\n",
       "      <th>int_target</th>\n",
       "    </tr>\n",
       "  </thead>\n",
       "  <tbody>\n",
       "    <tr>\n",
       "      <th>count</th>\n",
       "      <td>9000.000000</td>\n",
       "      <td>9000.000000</td>\n",
       "      <td>9000.000000</td>\n",
       "      <td>9000.000000</td>\n",
       "      <td>9000.000000</td>\n",
       "      <td>9000.000000</td>\n",
       "      <td>9000.000000</td>\n",
       "      <td>9000.000000</td>\n",
       "      <td>9000.000000</td>\n",
       "      <td>9000.000000</td>\n",
       "      <td>9000.000000</td>\n",
       "      <td>9000.000000</td>\n",
       "      <td>9000.000000</td>\n",
       "      <td>9000.000000</td>\n",
       "      <td>9000.000000</td>\n",
       "      <td>9000.000000</td>\n",
       "      <td>9000.000000</td>\n",
       "      <td>9000.000000</td>\n",
       "      <td>9000.000000</td>\n",
       "      <td>9000.000000</td>\n",
       "    </tr>\n",
       "    <tr>\n",
       "      <th>mean</th>\n",
       "      <td>9.892699</td>\n",
       "      <td>0.051539</td>\n",
       "      <td>13.691801</td>\n",
       "      <td>-5.280291</td>\n",
       "      <td>-0.190470</td>\n",
       "      <td>33.328407</td>\n",
       "      <td>353.997548</td>\n",
       "      <td>0.322612</td>\n",
       "      <td>-69.936887</td>\n",
       "      <td>-0.334325</td>\n",
       "      <td>0.328602</td>\n",
       "      <td>99.738087</td>\n",
       "      <td>99.862703</td>\n",
       "      <td>99.764452</td>\n",
       "      <td>99.958384</td>\n",
       "      <td>100.053203</td>\n",
       "      <td>100.209235</td>\n",
       "      <td>100.150711</td>\n",
       "      <td>99.819907</td>\n",
       "      <td>14962.016000</td>\n",
       "    </tr>\n",
       "    <tr>\n",
       "      <th>std</th>\n",
       "      <td>16.005016</td>\n",
       "      <td>0.708241</td>\n",
       "      <td>77.058634</td>\n",
       "      <td>26.814772</td>\n",
       "      <td>0.966878</td>\n",
       "      <td>193.282240</td>\n",
       "      <td>482.976481</td>\n",
       "      <td>1.928390</td>\n",
       "      <td>130.805512</td>\n",
       "      <td>1.802465</td>\n",
       "      <td>1.949699</td>\n",
       "      <td>19.970516</td>\n",
       "      <td>20.059934</td>\n",
       "      <td>19.816391</td>\n",
       "      <td>20.073887</td>\n",
       "      <td>20.005191</td>\n",
       "      <td>19.839667</td>\n",
       "      <td>20.084744</td>\n",
       "      <td>20.072153</td>\n",
       "      <td>8507.039575</td>\n",
       "    </tr>\n",
       "    <tr>\n",
       "      <th>min</th>\n",
       "      <td>-55.674815</td>\n",
       "      <td>-1.000000</td>\n",
       "      <td>0.002306</td>\n",
       "      <td>-90.266818</td>\n",
       "      <td>-1.000000</td>\n",
       "      <td>-782.730110</td>\n",
       "      <td>0.000032</td>\n",
       "      <td>-8.785694</td>\n",
       "      <td>-562.750841</td>\n",
       "      <td>-6.678488</td>\n",
       "      <td>-6.817115</td>\n",
       "      <td>23.296434</td>\n",
       "      <td>21.404151</td>\n",
       "      <td>20.462943</td>\n",
       "      <td>31.695377</td>\n",
       "      <td>25.278459</td>\n",
       "      <td>6.108243</td>\n",
       "      <td>29.523073</td>\n",
       "      <td>28.591199</td>\n",
       "      <td>501.000000</td>\n",
       "    </tr>\n",
       "    <tr>\n",
       "      <th>25%</th>\n",
       "      <td>-0.590266</td>\n",
       "      <td>-0.652740</td>\n",
       "      <td>0.891789</td>\n",
       "      <td>-24.131903</td>\n",
       "      <td>-1.000000</td>\n",
       "      <td>-88.607265</td>\n",
       "      <td>38.261808</td>\n",
       "      <td>-0.867972</td>\n",
       "      <td>-155.988559</td>\n",
       "      <td>-1.569338</td>\n",
       "      <td>-0.997933</td>\n",
       "      <td>86.416262</td>\n",
       "      <td>86.377084</td>\n",
       "      <td>86.184816</td>\n",
       "      <td>86.146061</td>\n",
       "      <td>86.513425</td>\n",
       "      <td>86.753705</td>\n",
       "      <td>86.684625</td>\n",
       "      <td>86.163540</td>\n",
       "      <td>7461.750000</td>\n",
       "    </tr>\n",
       "    <tr>\n",
       "      <th>50%</th>\n",
       "      <td>10.032527</td>\n",
       "      <td>0.108589</td>\n",
       "      <td>2.771781</td>\n",
       "      <td>-6.535842</td>\n",
       "      <td>-0.999996</td>\n",
       "      <td>47.154805</td>\n",
       "      <td>169.202144</td>\n",
       "      <td>0.454511</td>\n",
       "      <td>-80.249681</td>\n",
       "      <td>-0.374527</td>\n",
       "      <td>0.361400</td>\n",
       "      <td>99.753333</td>\n",
       "      <td>99.914720</td>\n",
       "      <td>99.938163</td>\n",
       "      <td>99.956294</td>\n",
       "      <td>99.644334</td>\n",
       "      <td>100.166669</td>\n",
       "      <td>100.179503</td>\n",
       "      <td>99.942090</td>\n",
       "      <td>14878.500000</td>\n",
       "    </tr>\n",
       "    <tr>\n",
       "      <th>75%</th>\n",
       "      <td>20.577624</td>\n",
       "      <td>0.750147</td>\n",
       "      <td>8.313018</td>\n",
       "      <td>12.151035</td>\n",
       "      <td>1.000000</td>\n",
       "      <td>165.882796</td>\n",
       "      <td>476.800547</td>\n",
       "      <td>1.636826</td>\n",
       "      <td>10.046369</td>\n",
       "      <td>0.874218</td>\n",
       "      <td>1.690059</td>\n",
       "      <td>113.192601</td>\n",
       "      <td>113.550065</td>\n",
       "      <td>113.274773</td>\n",
       "      <td>113.503300</td>\n",
       "      <td>113.486201</td>\n",
       "      <td>113.389489</td>\n",
       "      <td>113.657307</td>\n",
       "      <td>113.275163</td>\n",
       "      <td>22404.000000</td>\n",
       "    </tr>\n",
       "    <tr>\n",
       "      <th>max</th>\n",
       "      <td>71.408515</td>\n",
       "      <td>1.000000</td>\n",
       "      <td>4195.458665</td>\n",
       "      <td>96.967006</td>\n",
       "      <td>1.000000</td>\n",
       "      <td>689.183091</td>\n",
       "      <td>5099.175987</td>\n",
       "      <td>7.563691</td>\n",
       "      <td>454.622574</td>\n",
       "      <td>6.605742</td>\n",
       "      <td>7.314190</td>\n",
       "      <td>169.972815</td>\n",
       "      <td>169.211534</td>\n",
       "      <td>176.896232</td>\n",
       "      <td>180.756967</td>\n",
       "      <td>182.022092</td>\n",
       "      <td>173.917343</td>\n",
       "      <td>171.521586</td>\n",
       "      <td>178.220128</td>\n",
       "      <td>29631.000000</td>\n",
       "    </tr>\n",
       "  </tbody>\n",
       "</table>\n",
       "</div>"
      ],
      "text/plain": [
       "         feature_1    feature_2    feature_3    feature_4    feature_5  \\\n",
       "count  9000.000000  9000.000000  9000.000000  9000.000000  9000.000000   \n",
       "mean      9.892699     0.051539    13.691801    -5.280291    -0.190470   \n",
       "std      16.005016     0.708241    77.058634    26.814772     0.966878   \n",
       "min     -55.674815    -1.000000     0.002306   -90.266818    -1.000000   \n",
       "25%      -0.590266    -0.652740     0.891789   -24.131903    -1.000000   \n",
       "50%      10.032527     0.108589     2.771781    -6.535842    -0.999996   \n",
       "75%      20.577624     0.750147     8.313018    12.151035     1.000000   \n",
       "max      71.408515     1.000000  4195.458665    96.967006     1.000000   \n",
       "\n",
       "         feature_6    feature_7    feature_8    feature_9   feature_10  \\\n",
       "count  9000.000000  9000.000000  9000.000000  9000.000000  9000.000000   \n",
       "mean     33.328407   353.997548     0.322612   -69.936887    -0.334325   \n",
       "std     193.282240   482.976481     1.928390   130.805512     1.802465   \n",
       "min    -782.730110     0.000032    -8.785694  -562.750841    -6.678488   \n",
       "25%     -88.607265    38.261808    -0.867972  -155.988559    -1.569338   \n",
       "50%      47.154805   169.202144     0.454511   -80.249681    -0.374527   \n",
       "75%     165.882796   476.800547     1.636826    10.046369     0.874218   \n",
       "max     689.183091  5099.175987     7.563691   454.622574     6.605742   \n",
       "\n",
       "        feature_11   feature_13   feature_14   feature_15   feature_16  \\\n",
       "count  9000.000000  9000.000000  9000.000000  9000.000000  9000.000000   \n",
       "mean      0.328602    99.738087    99.862703    99.764452    99.958384   \n",
       "std       1.949699    19.970516    20.059934    19.816391    20.073887   \n",
       "min      -6.817115    23.296434    21.404151    20.462943    31.695377   \n",
       "25%      -0.997933    86.416262    86.377084    86.184816    86.146061   \n",
       "50%       0.361400    99.753333    99.914720    99.938163    99.956294   \n",
       "75%       1.690059   113.192601   113.550065   113.274773   113.503300   \n",
       "max       7.314190   169.972815   169.211534   176.896232   180.756967   \n",
       "\n",
       "        feature_17   feature_18   feature_19   feature_20    int_target  \n",
       "count  9000.000000  9000.000000  9000.000000  9000.000000   9000.000000  \n",
       "mean    100.053203   100.209235   100.150711    99.819907  14962.016000  \n",
       "std      20.005191    19.839667    20.084744    20.072153   8507.039575  \n",
       "min      25.278459     6.108243    29.523073    28.591199    501.000000  \n",
       "25%      86.513425    86.753705    86.684625    86.163540   7461.750000  \n",
       "50%      99.644334   100.166669   100.179503    99.942090  14878.500000  \n",
       "75%     113.486201   113.389489   113.657307   113.275163  22404.000000  \n",
       "max     182.022092   173.917343   171.521586   178.220128  29631.000000  "
      ]
     },
     "execution_count": 35,
     "metadata": {},
     "output_type": "execute_result"
    }
   ],
   "source": [
    "dataset.describe()"
   ]
  },
  {
   "cell_type": "markdown",
   "id": "4f8866e9-4876-426a-b547-f8370e3cbf31",
   "metadata": {},
   "source": [
    "### Апдейт задачи\n",
    "Пришле заказчик и запросил текущий статус. Метрики RMSE ему сильно не понравились, около половины размаха всего таргета.<br>\n",
    "Вы предпологаете, что задача регрессии слишком комплексна для текущего набора данных.<br>\n",
    "Вы предложили, поделить таргет на классы, то есть не определять абсолютную сумму транзакций, а определять к какому классу этот клиент относится (высокодоходных, средний или низкодоходный).<br>\n",
    "Заказчик показать как поделить на эти классы"
   ]
  },
  {
   "cell_type": "markdown",
   "id": "3888dbb6-f062-40f8-954a-1bdb5e327e96",
   "metadata": {},
   "source": [
    "7. Чтобы поделить таргет на классы давайте сначала посмотрим на распределение этого самого таргета"
   ]
  },
  {
   "cell_type": "code",
   "execution_count": 36,
   "id": "42e65de6-8489-476a-806c-52b01603dfa0",
   "metadata": {},
   "outputs": [
    {
     "name": "stdout",
     "output_type": "stream",
     "text": [
      "count     9000.000000\n",
      "mean     14962.016000\n",
      "std       8507.039575\n",
      "min        501.000000\n",
      "25%       7461.750000\n",
      "50%      14878.500000\n",
      "75%      22404.000000\n",
      "max      29631.000000\n",
      "Name: int_target, dtype: float64\n"
     ]
    }
   ],
   "source": [
    "print(dataset['int_target'].describe())"
   ]
  },
  {
   "cell_type": "markdown",
   "id": "9247ca49-a90c-4961-8bb9-93902377165d",
   "metadata": {},
   "source": [
    "8. Думаю вы согласитесь что распределение выглядит равномерным то есть поделить мы можем на три равных класса.<br>\n",
    "Для этого нам нужно посчитать соответствующие перцентили (33% и 67%)"
   ]
  },
  {
   "cell_type": "code",
   "execution_count": 37,
   "id": "e0ae5c48-8a69-4ab9-a0bf-f747a33f741d",
   "metadata": {},
   "outputs": [],
   "source": [
    "percentile_33 = dataset['int_target'].quantile(0.33)\n",
    "percentile_67 = dataset['int_target'].quantile(0.67)"
   ]
  },
  {
   "cell_type": "code",
   "execution_count": 38,
   "id": "b432ec70-951c-4ee5-bdd7-1cb358c68ac2",
   "metadata": {},
   "outputs": [
    {
     "name": "stdout",
     "output_type": "stream",
     "text": [
      "33-й перцентиль: 9871.67\n",
      "67-й перцентиль: 20120.66\n"
     ]
    }
   ],
   "source": [
    "print(f\"33-й перцентиль: {percentile_33}\")\n",
    "print(f\"67-й перцентиль: {percentile_67}\")"
   ]
  },
  {
   "cell_type": "code",
   "execution_count": null,
   "id": "4451fe35-805f-4281-8130-57d0fb9c96ee",
   "metadata": {},
   "outputs": [],
   "source": []
  },
  {
   "cell_type": "markdown",
   "id": "ae34fb08-694d-4a27-a80a-488d7ed32fb4",
   "metadata": {},
   "source": [
    "9. Заказчик согласился на деление по классам по данным перцентире но предложил их округлить.<br>\n",
    "Поэтому создайте новый таргет, по такой логике, все что ниже 10,000 это низкодоходный, а все что выше 20000 это высокодоходный, остальное соответсвенно средний класс"
   ]
  },
  {
   "cell_type": "code",
   "execution_count": 39,
   "id": "dd089606-135e-44d7-914f-a27e51ec145c",
   "metadata": {},
   "outputs": [],
   "source": [
    "low_income = 10000\n",
    "high_income = 20000\n",
    "\n",
    "def new_target(x):\n",
    "    if x < low_income:\n",
    "        return 'Низкий доход'\n",
    "    elif x > high_income:\n",
    "        return 'Средний доход'\n",
    "    else:\n",
    "        return 'Высокий доход'\n",
    "\n",
    "new_dataset['target_class'] = dataset['int_target'].apply(new_target)"
   ]
  },
  {
   "cell_type": "code",
   "execution_count": 40,
   "id": "d8bf92ce-6ffc-4e13-8fe2-d9e79fe6c128",
   "metadata": {},
   "outputs": [
    {
     "name": "stdout",
     "output_type": "stream",
     "text": [
      "\n",
      "Данные с новым таргетом:\n",
      "        A    B    C    D  feature_1  feature_2  feature_3  feature_4  \\\n",
      "0     0.0  1.0  0.0  0.0  -0.043457  -0.027918   1.473594 -10.309556   \n",
      "1     0.0  0.0  0.0  1.0  -1.535978   0.999851  23.019753  38.430092   \n",
      "2     0.0  1.0  0.0  0.0  11.567708   0.608310   1.873323   6.412821   \n",
      "3     0.0  0.0  1.0  0.0   9.220074   0.999864   5.041939 -12.692120   \n",
      "4     0.0  0.0  1.0  0.0  -3.025434  -0.594711   5.912259 -14.922129   \n",
      "...   ...  ...  ...  ...        ...        ...        ...        ...   \n",
      "8995  0.0  0.0  0.0  1.0 -14.855160  -0.444750   5.014003   6.427379   \n",
      "8996  0.0  0.0  0.0  1.0   3.978782  -0.977872   4.424409 -12.647104   \n",
      "8997  0.0  1.0  0.0  0.0 -12.752882   0.877753   4.595519  -3.167490   \n",
      "8998  0.0  0.0  0.0  1.0   5.848172  -0.113649  14.008038   9.070265   \n",
      "8999  0.0  1.0  0.0  0.0  -0.587002  -0.084128  19.426709  13.118624   \n",
      "\n",
      "      feature_5   feature_6  ...  feature_11  feature_13  feature_14  \\\n",
      "0     -1.000000  145.373247  ...    0.525065   83.317907   85.385030   \n",
      "1      1.000000 -110.045207  ...   -0.910418  114.881621   79.711086   \n",
      "2      0.999995 -280.186852  ...   -1.598523  145.833459  115.159171   \n",
      "3     -1.000000  164.773793  ...    3.248977   98.150579   78.620349   \n",
      "4     -1.000000    9.546673  ...   -0.565688   94.519135  123.286154   \n",
      "...         ...         ...  ...         ...         ...         ...   \n",
      "8995   0.999995 -117.145006  ...    1.096507  121.949240  106.327136   \n",
      "8996  -1.000000  417.490199  ...   -0.334408  123.045333  106.364483   \n",
      "8997  -0.996460 -683.322309  ...   -4.598775  123.040231  126.737676   \n",
      "8998   1.000000 -100.800044  ...    1.302899  107.747155   87.938391   \n",
      "8999   1.000000    9.036669  ...    1.056031  101.958056  103.685032   \n",
      "\n",
      "      feature_15  feature_16  feature_17  feature_18  feature_19  feature_20  \\\n",
      "0     120.550153   59.736520   64.325558  107.833753   85.853573  104.466108   \n",
      "1      68.505986  116.330797   75.365722  104.229006   90.842232   95.232654   \n",
      "2      64.417992   98.846694   66.381070   82.118547   96.837671  103.887599   \n",
      "3     120.176496  104.297092   89.318362   73.791588   71.870016   68.397346   \n",
      "4      75.458961  111.831234  111.871202   99.733563  100.697358   97.568328   \n",
      "...          ...         ...         ...         ...         ...         ...   \n",
      "8995  101.548759  102.942019   91.144601  108.163022  100.870928  115.264152   \n",
      "8996   83.957364   47.059143   87.166297  112.811188   98.509837  123.960286   \n",
      "8997  120.916782  113.665833  132.285874  103.250240   96.179067  112.579289   \n",
      "8998  115.194858   90.439441   83.195356  115.937584   94.057404   64.427729   \n",
      "8999  105.816761   88.142546  110.246240  140.943514  128.894451   81.582395   \n",
      "\n",
      "       target_class  \n",
      "0     Высокий доход  \n",
      "1      Низкий доход  \n",
      "2     Высокий доход  \n",
      "3     Средний доход  \n",
      "4      Низкий доход  \n",
      "...             ...  \n",
      "8995  Высокий доход  \n",
      "8996  Средний доход  \n",
      "8997   Низкий доход  \n",
      "8998  Средний доход  \n",
      "8999  Высокий доход  \n",
      "\n",
      "[9000 rows x 24 columns]\n"
     ]
    }
   ],
   "source": [
    "print(\"\\nДанные с новым таргетом:\")\n",
    "print(new_dataset)"
   ]
  },
  {
   "cell_type": "markdown",
   "id": "7860d2ae-05ef-4287-a986-d16fad7f048d",
   "metadata": {},
   "source": [
    "10. Давайте теперь построим модель логистической регрессии она будет служить нам бэйзлайном, а также фильтром признаков.<br>\n",
    "Для этого постройте модель с Lasso регуляризацией и коефициентом регуляризации 0.01.<br>\n",
    "Оцените модель используя метрику accuracy"
   ]
  },
  {
   "cell_type": "code",
   "execution_count": 41,
   "id": "9d966156-cdcf-4f63-b26b-6c5f704b301a",
   "metadata": {},
   "outputs": [],
   "source": [
    "x = new_dataset.drop(columns=['target_class'])\n",
    "y = new_dataset['target_class']\n",
    "x_tr, x_t, y_tr, y_t = train_test_split(x, y, test_size = 0.3, random_state = 105)"
   ]
  },
  {
   "cell_type": "code",
   "execution_count": 42,
   "id": "de3fdf87-9381-4c1c-a686-52e50e80c409",
   "metadata": {},
   "outputs": [
    {
     "data": {
      "text/plain": [
       "target_class\n",
       "Низкий доход     0.334778\n",
       "Средний доход    0.334333\n",
       "Высокий доход    0.330889\n",
       "Name: proportion, dtype: float64"
      ]
     },
     "execution_count": 42,
     "metadata": {},
     "output_type": "execute_result"
    }
   ],
   "source": [
    "y.value_counts(normalize=True)"
   ]
  },
  {
   "cell_type": "code",
   "execution_count": 43,
   "id": "3432049c-65d4-47de-857c-7c81dd5f5dec",
   "metadata": {},
   "outputs": [
    {
     "data": {
      "text/plain": [
       "target_class\n",
       "Низкий доход     0.337037\n",
       "Высокий доход    0.333333\n",
       "Средний доход    0.329630\n",
       "Name: proportion, dtype: float64"
      ]
     },
     "execution_count": 43,
     "metadata": {},
     "output_type": "execute_result"
    }
   ],
   "source": [
    "y_t.value_counts(normalize=True)"
   ]
  },
  {
   "cell_type": "code",
   "execution_count": 44,
   "id": "7b16b921-21e2-44a1-b493-98e1851580bd",
   "metadata": {},
   "outputs": [],
   "source": [
    "scaler = MinMaxScaler()\n",
    "x_tr_scaled_d = scaler.fit_transform(x_tr)\n",
    "x_tr_scaled = pd.DataFrame(x_tr_scaled_d, columns = x_tr.columns)\n",
    "\n",
    "x_t_scaled_d = scaler.transform(x_t)\n",
    "x_t_scaled = pd.DataFrame(x_t_scaled_d, columns = x_t.columns)"
   ]
  },
  {
   "cell_type": "code",
   "execution_count": 45,
   "id": "9b2b4228-dba0-4eb0-9195-abee77d66a87",
   "metadata": {},
   "outputs": [
    {
     "data": {
      "text/html": [
       "<div>\n",
       "<style scoped>\n",
       "    .dataframe tbody tr th:only-of-type {\n",
       "        vertical-align: middle;\n",
       "    }\n",
       "\n",
       "    .dataframe tbody tr th {\n",
       "        vertical-align: top;\n",
       "    }\n",
       "\n",
       "    .dataframe thead th {\n",
       "        text-align: right;\n",
       "    }\n",
       "</style>\n",
       "<table border=\"1\" class=\"dataframe\">\n",
       "  <thead>\n",
       "    <tr style=\"text-align: right;\">\n",
       "      <th></th>\n",
       "      <th>A</th>\n",
       "      <th>B</th>\n",
       "      <th>C</th>\n",
       "      <th>D</th>\n",
       "      <th>feature_1</th>\n",
       "      <th>feature_2</th>\n",
       "      <th>feature_3</th>\n",
       "      <th>feature_4</th>\n",
       "      <th>feature_5</th>\n",
       "      <th>feature_6</th>\n",
       "      <th>...</th>\n",
       "      <th>feature_10</th>\n",
       "      <th>feature_11</th>\n",
       "      <th>feature_13</th>\n",
       "      <th>feature_14</th>\n",
       "      <th>feature_15</th>\n",
       "      <th>feature_16</th>\n",
       "      <th>feature_17</th>\n",
       "      <th>feature_18</th>\n",
       "      <th>feature_19</th>\n",
       "      <th>feature_20</th>\n",
       "    </tr>\n",
       "  </thead>\n",
       "  <tbody>\n",
       "    <tr>\n",
       "      <th>count</th>\n",
       "      <td>6300.000000</td>\n",
       "      <td>6300.000000</td>\n",
       "      <td>6300.000000</td>\n",
       "      <td>6300.000000</td>\n",
       "      <td>6300.000000</td>\n",
       "      <td>6300.000000</td>\n",
       "      <td>6300.000000</td>\n",
       "      <td>6300.000000</td>\n",
       "      <td>6300.000000</td>\n",
       "      <td>6300.000000</td>\n",
       "      <td>...</td>\n",
       "      <td>6300.000000</td>\n",
       "      <td>6300.000000</td>\n",
       "      <td>6300.000000</td>\n",
       "      <td>6300.000000</td>\n",
       "      <td>6300.000000</td>\n",
       "      <td>6300.000000</td>\n",
       "      <td>6300.000000</td>\n",
       "      <td>6300.000000</td>\n",
       "      <td>6300.000000</td>\n",
       "      <td>6300.000000</td>\n",
       "    </tr>\n",
       "    <tr>\n",
       "      <th>mean</th>\n",
       "      <td>0.243175</td>\n",
       "      <td>0.256032</td>\n",
       "      <td>0.251111</td>\n",
       "      <td>0.249683</td>\n",
       "      <td>0.508071</td>\n",
       "      <td>0.524313</td>\n",
       "      <td>0.003354</td>\n",
       "      <td>0.448969</td>\n",
       "      <td>0.401541</td>\n",
       "      <td>0.551288</td>\n",
       "      <td>...</td>\n",
       "      <td>0.477721</td>\n",
       "      <td>0.506463</td>\n",
       "      <td>0.536257</td>\n",
       "      <td>0.529546</td>\n",
       "      <td>0.512666</td>\n",
       "      <td>0.457497</td>\n",
       "      <td>0.478065</td>\n",
       "      <td>0.560092</td>\n",
       "      <td>0.496677</td>\n",
       "      <td>0.451567</td>\n",
       "    </tr>\n",
       "    <tr>\n",
       "      <th>std</th>\n",
       "      <td>0.429034</td>\n",
       "      <td>0.436474</td>\n",
       "      <td>0.433687</td>\n",
       "      <td>0.432864</td>\n",
       "      <td>0.128614</td>\n",
       "      <td>0.352391</td>\n",
       "      <td>0.020062</td>\n",
       "      <td>0.143607</td>\n",
       "      <td>0.482684</td>\n",
       "      <td>0.131940</td>\n",
       "      <td>...</td>\n",
       "      <td>0.136211</td>\n",
       "      <td>0.138113</td>\n",
       "      <td>0.139912</td>\n",
       "      <td>0.135804</td>\n",
       "      <td>0.136343</td>\n",
       "      <td>0.135646</td>\n",
       "      <td>0.128313</td>\n",
       "      <td>0.118977</td>\n",
       "      <td>0.140114</td>\n",
       "      <td>0.140429</td>\n",
       "    </tr>\n",
       "    <tr>\n",
       "      <th>min</th>\n",
       "      <td>0.000000</td>\n",
       "      <td>0.000000</td>\n",
       "      <td>0.000000</td>\n",
       "      <td>0.000000</td>\n",
       "      <td>0.000000</td>\n",
       "      <td>0.000000</td>\n",
       "      <td>0.000000</td>\n",
       "      <td>0.000000</td>\n",
       "      <td>0.000000</td>\n",
       "      <td>0.000000</td>\n",
       "      <td>...</td>\n",
       "      <td>0.000000</td>\n",
       "      <td>0.000000</td>\n",
       "      <td>0.000000</td>\n",
       "      <td>0.000000</td>\n",
       "      <td>0.000000</td>\n",
       "      <td>0.000000</td>\n",
       "      <td>0.000000</td>\n",
       "      <td>0.000000</td>\n",
       "      <td>0.000000</td>\n",
       "      <td>0.000000</td>\n",
       "    </tr>\n",
       "    <tr>\n",
       "      <th>25%</th>\n",
       "      <td>0.000000</td>\n",
       "      <td>0.000000</td>\n",
       "      <td>0.000000</td>\n",
       "      <td>0.000000</td>\n",
       "      <td>0.423623</td>\n",
       "      <td>0.181462</td>\n",
       "      <td>0.000214</td>\n",
       "      <td>0.346845</td>\n",
       "      <td>0.000000</td>\n",
       "      <td>0.466537</td>\n",
       "      <td>...</td>\n",
       "      <td>0.385611</td>\n",
       "      <td>0.413751</td>\n",
       "      <td>0.442364</td>\n",
       "      <td>0.439578</td>\n",
       "      <td>0.418218</td>\n",
       "      <td>0.364868</td>\n",
       "      <td>0.390813</td>\n",
       "      <td>0.478395</td>\n",
       "      <td>0.402155</td>\n",
       "      <td>0.354434</td>\n",
       "    </tr>\n",
       "    <tr>\n",
       "      <th>50%</th>\n",
       "      <td>0.000000</td>\n",
       "      <td>0.000000</td>\n",
       "      <td>0.000000</td>\n",
       "      <td>0.000000</td>\n",
       "      <td>0.508507</td>\n",
       "      <td>0.551328</td>\n",
       "      <td>0.000657</td>\n",
       "      <td>0.441701</td>\n",
       "      <td>0.000001</td>\n",
       "      <td>0.560757</td>\n",
       "      <td>...</td>\n",
       "      <td>0.474570</td>\n",
       "      <td>0.510611</td>\n",
       "      <td>0.537293</td>\n",
       "      <td>0.528964</td>\n",
       "      <td>0.514293</td>\n",
       "      <td>0.457850</td>\n",
       "      <td>0.476315</td>\n",
       "      <td>0.559525</td>\n",
       "      <td>0.495830</td>\n",
       "      <td>0.453699</td>\n",
       "    </tr>\n",
       "    <tr>\n",
       "      <th>75%</th>\n",
       "      <td>0.000000</td>\n",
       "      <td>1.000000</td>\n",
       "      <td>1.000000</td>\n",
       "      <td>0.000000</td>\n",
       "      <td>0.592708</td>\n",
       "      <td>0.872152</td>\n",
       "      <td>0.001977</td>\n",
       "      <td>0.543567</td>\n",
       "      <td>1.000000</td>\n",
       "      <td>0.641779</td>\n",
       "      <td>...</td>\n",
       "      <td>0.568819</td>\n",
       "      <td>0.601495</td>\n",
       "      <td>0.630422</td>\n",
       "      <td>0.622682</td>\n",
       "      <td>0.605148</td>\n",
       "      <td>0.547955</td>\n",
       "      <td>0.565646</td>\n",
       "      <td>0.638152</td>\n",
       "      <td>0.591299</td>\n",
       "      <td>0.546705</td>\n",
       "    </tr>\n",
       "    <tr>\n",
       "      <th>max</th>\n",
       "      <td>1.000000</td>\n",
       "      <td>1.000000</td>\n",
       "      <td>1.000000</td>\n",
       "      <td>1.000000</td>\n",
       "      <td>1.000000</td>\n",
       "      <td>1.000000</td>\n",
       "      <td>1.000000</td>\n",
       "      <td>1.000000</td>\n",
       "      <td>1.000000</td>\n",
       "      <td>1.000000</td>\n",
       "      <td>...</td>\n",
       "      <td>1.000000</td>\n",
       "      <td>1.000000</td>\n",
       "      <td>1.000000</td>\n",
       "      <td>1.000000</td>\n",
       "      <td>1.000000</td>\n",
       "      <td>1.000000</td>\n",
       "      <td>1.000000</td>\n",
       "      <td>1.000000</td>\n",
       "      <td>1.000000</td>\n",
       "      <td>1.000000</td>\n",
       "    </tr>\n",
       "  </tbody>\n",
       "</table>\n",
       "<p>8 rows × 23 columns</p>\n",
       "</div>"
      ],
      "text/plain": [
       "                 A            B            C            D    feature_1  \\\n",
       "count  6300.000000  6300.000000  6300.000000  6300.000000  6300.000000   \n",
       "mean      0.243175     0.256032     0.251111     0.249683     0.508071   \n",
       "std       0.429034     0.436474     0.433687     0.432864     0.128614   \n",
       "min       0.000000     0.000000     0.000000     0.000000     0.000000   \n",
       "25%       0.000000     0.000000     0.000000     0.000000     0.423623   \n",
       "50%       0.000000     0.000000     0.000000     0.000000     0.508507   \n",
       "75%       0.000000     1.000000     1.000000     0.000000     0.592708   \n",
       "max       1.000000     1.000000     1.000000     1.000000     1.000000   \n",
       "\n",
       "         feature_2    feature_3    feature_4    feature_5    feature_6  ...  \\\n",
       "count  6300.000000  6300.000000  6300.000000  6300.000000  6300.000000  ...   \n",
       "mean      0.524313     0.003354     0.448969     0.401541     0.551288  ...   \n",
       "std       0.352391     0.020062     0.143607     0.482684     0.131940  ...   \n",
       "min       0.000000     0.000000     0.000000     0.000000     0.000000  ...   \n",
       "25%       0.181462     0.000214     0.346845     0.000000     0.466537  ...   \n",
       "50%       0.551328     0.000657     0.441701     0.000001     0.560757  ...   \n",
       "75%       0.872152     0.001977     0.543567     1.000000     0.641779  ...   \n",
       "max       1.000000     1.000000     1.000000     1.000000     1.000000  ...   \n",
       "\n",
       "        feature_10   feature_11   feature_13   feature_14   feature_15  \\\n",
       "count  6300.000000  6300.000000  6300.000000  6300.000000  6300.000000   \n",
       "mean      0.477721     0.506463     0.536257     0.529546     0.512666   \n",
       "std       0.136211     0.138113     0.139912     0.135804     0.136343   \n",
       "min       0.000000     0.000000     0.000000     0.000000     0.000000   \n",
       "25%       0.385611     0.413751     0.442364     0.439578     0.418218   \n",
       "50%       0.474570     0.510611     0.537293     0.528964     0.514293   \n",
       "75%       0.568819     0.601495     0.630422     0.622682     0.605148   \n",
       "max       1.000000     1.000000     1.000000     1.000000     1.000000   \n",
       "\n",
       "        feature_16   feature_17   feature_18   feature_19   feature_20  \n",
       "count  6300.000000  6300.000000  6300.000000  6300.000000  6300.000000  \n",
       "mean      0.457497     0.478065     0.560092     0.496677     0.451567  \n",
       "std       0.135646     0.128313     0.118977     0.140114     0.140429  \n",
       "min       0.000000     0.000000     0.000000     0.000000     0.000000  \n",
       "25%       0.364868     0.390813     0.478395     0.402155     0.354434  \n",
       "50%       0.457850     0.476315     0.559525     0.495830     0.453699  \n",
       "75%       0.547955     0.565646     0.638152     0.591299     0.546705  \n",
       "max       1.000000     1.000000     1.000000     1.000000     1.000000  \n",
       "\n",
       "[8 rows x 23 columns]"
      ]
     },
     "execution_count": 45,
     "metadata": {},
     "output_type": "execute_result"
    }
   ],
   "source": [
    "x_tr_scaled.describe()"
   ]
  },
  {
   "cell_type": "code",
   "execution_count": 46,
   "id": "66993e2c-b4ee-4aac-9817-1320edef6e29",
   "metadata": {},
   "outputs": [],
   "source": [
    "log_model = LogisticRegression(max_iter = 10000)"
   ]
  },
  {
   "cell_type": "code",
   "execution_count": 47,
   "id": "c326a425-2fc0-4a43-ae3b-a1906793bc73",
   "metadata": {},
   "outputs": [
    {
     "data": {
      "text/html": [
       "<style>#sk-container-id-5 {color: black;background-color: white;}#sk-container-id-5 pre{padding: 0;}#sk-container-id-5 div.sk-toggleable {background-color: white;}#sk-container-id-5 label.sk-toggleable__label {cursor: pointer;display: block;width: 100%;margin-bottom: 0;padding: 0.3em;box-sizing: border-box;text-align: center;}#sk-container-id-5 label.sk-toggleable__label-arrow:before {content: \"▸\";float: left;margin-right: 0.25em;color: #696969;}#sk-container-id-5 label.sk-toggleable__label-arrow:hover:before {color: black;}#sk-container-id-5 div.sk-estimator:hover label.sk-toggleable__label-arrow:before {color: black;}#sk-container-id-5 div.sk-toggleable__content {max-height: 0;max-width: 0;overflow: hidden;text-align: left;background-color: #f0f8ff;}#sk-container-id-5 div.sk-toggleable__content pre {margin: 0.2em;color: black;border-radius: 0.25em;background-color: #f0f8ff;}#sk-container-id-5 input.sk-toggleable__control:checked~div.sk-toggleable__content {max-height: 200px;max-width: 100%;overflow: auto;}#sk-container-id-5 input.sk-toggleable__control:checked~label.sk-toggleable__label-arrow:before {content: \"▾\";}#sk-container-id-5 div.sk-estimator input.sk-toggleable__control:checked~label.sk-toggleable__label {background-color: #d4ebff;}#sk-container-id-5 div.sk-label input.sk-toggleable__control:checked~label.sk-toggleable__label {background-color: #d4ebff;}#sk-container-id-5 input.sk-hidden--visually {border: 0;clip: rect(1px 1px 1px 1px);clip: rect(1px, 1px, 1px, 1px);height: 1px;margin: -1px;overflow: hidden;padding: 0;position: absolute;width: 1px;}#sk-container-id-5 div.sk-estimator {font-family: monospace;background-color: #f0f8ff;border: 1px dotted black;border-radius: 0.25em;box-sizing: border-box;margin-bottom: 0.5em;}#sk-container-id-5 div.sk-estimator:hover {background-color: #d4ebff;}#sk-container-id-5 div.sk-parallel-item::after {content: \"\";width: 100%;border-bottom: 1px solid gray;flex-grow: 1;}#sk-container-id-5 div.sk-label:hover label.sk-toggleable__label {background-color: #d4ebff;}#sk-container-id-5 div.sk-serial::before {content: \"\";position: absolute;border-left: 1px solid gray;box-sizing: border-box;top: 0;bottom: 0;left: 50%;z-index: 0;}#sk-container-id-5 div.sk-serial {display: flex;flex-direction: column;align-items: center;background-color: white;padding-right: 0.2em;padding-left: 0.2em;position: relative;}#sk-container-id-5 div.sk-item {position: relative;z-index: 1;}#sk-container-id-5 div.sk-parallel {display: flex;align-items: stretch;justify-content: center;background-color: white;position: relative;}#sk-container-id-5 div.sk-item::before, #sk-container-id-5 div.sk-parallel-item::before {content: \"\";position: absolute;border-left: 1px solid gray;box-sizing: border-box;top: 0;bottom: 0;left: 50%;z-index: -1;}#sk-container-id-5 div.sk-parallel-item {display: flex;flex-direction: column;z-index: 1;position: relative;background-color: white;}#sk-container-id-5 div.sk-parallel-item:first-child::after {align-self: flex-end;width: 50%;}#sk-container-id-5 div.sk-parallel-item:last-child::after {align-self: flex-start;width: 50%;}#sk-container-id-5 div.sk-parallel-item:only-child::after {width: 0;}#sk-container-id-5 div.sk-dashed-wrapped {border: 1px dashed gray;margin: 0 0.4em 0.5em 0.4em;box-sizing: border-box;padding-bottom: 0.4em;background-color: white;}#sk-container-id-5 div.sk-label label {font-family: monospace;font-weight: bold;display: inline-block;line-height: 1.2em;}#sk-container-id-5 div.sk-label-container {text-align: center;}#sk-container-id-5 div.sk-container {/* jupyter's `normalize.less` sets `[hidden] { display: none; }` but bootstrap.min.css set `[hidden] { display: none !important; }` so we also need the `!important` here to be able to override the default hidden behavior on the sphinx rendered scikit-learn.org. See: https://github.com/scikit-learn/scikit-learn/issues/21755 */display: inline-block !important;position: relative;}#sk-container-id-5 div.sk-text-repr-fallback {display: none;}</style><div id=\"sk-container-id-5\" class=\"sk-top-container\"><div class=\"sk-text-repr-fallback\"><pre>LogisticRegression(max_iter=10000)</pre><b>In a Jupyter environment, please rerun this cell to show the HTML representation or trust the notebook. <br />On GitHub, the HTML representation is unable to render, please try loading this page with nbviewer.org.</b></div><div class=\"sk-container\" hidden><div class=\"sk-item\"><div class=\"sk-estimator sk-toggleable\"><input class=\"sk-toggleable__control sk-hidden--visually\" id=\"sk-estimator-id-5\" type=\"checkbox\" checked><label for=\"sk-estimator-id-5\" class=\"sk-toggleable__label sk-toggleable__label-arrow\">LogisticRegression</label><div class=\"sk-toggleable__content\"><pre>LogisticRegression(max_iter=10000)</pre></div></div></div></div></div>"
      ],
      "text/plain": [
       "LogisticRegression(max_iter=10000)"
      ]
     },
     "execution_count": 47,
     "metadata": {},
     "output_type": "execute_result"
    }
   ],
   "source": [
    "log_model.fit(x_tr_scaled, y_tr)"
   ]
  },
  {
   "cell_type": "code",
   "execution_count": 48,
   "id": "86af5904-54c9-480b-b937-c564fa306d0b",
   "metadata": {},
   "outputs": [],
   "source": [
    "lasso_model = LogisticRegression(penalty='l1', C=0.01, solver='liblinear')"
   ]
  },
  {
   "cell_type": "code",
   "execution_count": 49,
   "id": "cb06d528-8ccd-4b1f-8acf-bdb5907b514f",
   "metadata": {},
   "outputs": [
    {
     "data": {
      "text/html": [
       "<style>#sk-container-id-6 {color: black;background-color: white;}#sk-container-id-6 pre{padding: 0;}#sk-container-id-6 div.sk-toggleable {background-color: white;}#sk-container-id-6 label.sk-toggleable__label {cursor: pointer;display: block;width: 100%;margin-bottom: 0;padding: 0.3em;box-sizing: border-box;text-align: center;}#sk-container-id-6 label.sk-toggleable__label-arrow:before {content: \"▸\";float: left;margin-right: 0.25em;color: #696969;}#sk-container-id-6 label.sk-toggleable__label-arrow:hover:before {color: black;}#sk-container-id-6 div.sk-estimator:hover label.sk-toggleable__label-arrow:before {color: black;}#sk-container-id-6 div.sk-toggleable__content {max-height: 0;max-width: 0;overflow: hidden;text-align: left;background-color: #f0f8ff;}#sk-container-id-6 div.sk-toggleable__content pre {margin: 0.2em;color: black;border-radius: 0.25em;background-color: #f0f8ff;}#sk-container-id-6 input.sk-toggleable__control:checked~div.sk-toggleable__content {max-height: 200px;max-width: 100%;overflow: auto;}#sk-container-id-6 input.sk-toggleable__control:checked~label.sk-toggleable__label-arrow:before {content: \"▾\";}#sk-container-id-6 div.sk-estimator input.sk-toggleable__control:checked~label.sk-toggleable__label {background-color: #d4ebff;}#sk-container-id-6 div.sk-label input.sk-toggleable__control:checked~label.sk-toggleable__label {background-color: #d4ebff;}#sk-container-id-6 input.sk-hidden--visually {border: 0;clip: rect(1px 1px 1px 1px);clip: rect(1px, 1px, 1px, 1px);height: 1px;margin: -1px;overflow: hidden;padding: 0;position: absolute;width: 1px;}#sk-container-id-6 div.sk-estimator {font-family: monospace;background-color: #f0f8ff;border: 1px dotted black;border-radius: 0.25em;box-sizing: border-box;margin-bottom: 0.5em;}#sk-container-id-6 div.sk-estimator:hover {background-color: #d4ebff;}#sk-container-id-6 div.sk-parallel-item::after {content: \"\";width: 100%;border-bottom: 1px solid gray;flex-grow: 1;}#sk-container-id-6 div.sk-label:hover label.sk-toggleable__label {background-color: #d4ebff;}#sk-container-id-6 div.sk-serial::before {content: \"\";position: absolute;border-left: 1px solid gray;box-sizing: border-box;top: 0;bottom: 0;left: 50%;z-index: 0;}#sk-container-id-6 div.sk-serial {display: flex;flex-direction: column;align-items: center;background-color: white;padding-right: 0.2em;padding-left: 0.2em;position: relative;}#sk-container-id-6 div.sk-item {position: relative;z-index: 1;}#sk-container-id-6 div.sk-parallel {display: flex;align-items: stretch;justify-content: center;background-color: white;position: relative;}#sk-container-id-6 div.sk-item::before, #sk-container-id-6 div.sk-parallel-item::before {content: \"\";position: absolute;border-left: 1px solid gray;box-sizing: border-box;top: 0;bottom: 0;left: 50%;z-index: -1;}#sk-container-id-6 div.sk-parallel-item {display: flex;flex-direction: column;z-index: 1;position: relative;background-color: white;}#sk-container-id-6 div.sk-parallel-item:first-child::after {align-self: flex-end;width: 50%;}#sk-container-id-6 div.sk-parallel-item:last-child::after {align-self: flex-start;width: 50%;}#sk-container-id-6 div.sk-parallel-item:only-child::after {width: 0;}#sk-container-id-6 div.sk-dashed-wrapped {border: 1px dashed gray;margin: 0 0.4em 0.5em 0.4em;box-sizing: border-box;padding-bottom: 0.4em;background-color: white;}#sk-container-id-6 div.sk-label label {font-family: monospace;font-weight: bold;display: inline-block;line-height: 1.2em;}#sk-container-id-6 div.sk-label-container {text-align: center;}#sk-container-id-6 div.sk-container {/* jupyter's `normalize.less` sets `[hidden] { display: none; }` but bootstrap.min.css set `[hidden] { display: none !important; }` so we also need the `!important` here to be able to override the default hidden behavior on the sphinx rendered scikit-learn.org. See: https://github.com/scikit-learn/scikit-learn/issues/21755 */display: inline-block !important;position: relative;}#sk-container-id-6 div.sk-text-repr-fallback {display: none;}</style><div id=\"sk-container-id-6\" class=\"sk-top-container\"><div class=\"sk-text-repr-fallback\"><pre>LogisticRegression(C=0.01, penalty=&#x27;l1&#x27;, solver=&#x27;liblinear&#x27;)</pre><b>In a Jupyter environment, please rerun this cell to show the HTML representation or trust the notebook. <br />On GitHub, the HTML representation is unable to render, please try loading this page with nbviewer.org.</b></div><div class=\"sk-container\" hidden><div class=\"sk-item\"><div class=\"sk-estimator sk-toggleable\"><input class=\"sk-toggleable__control sk-hidden--visually\" id=\"sk-estimator-id-6\" type=\"checkbox\" checked><label for=\"sk-estimator-id-6\" class=\"sk-toggleable__label sk-toggleable__label-arrow\">LogisticRegression</label><div class=\"sk-toggleable__content\"><pre>LogisticRegression(C=0.01, penalty=&#x27;l1&#x27;, solver=&#x27;liblinear&#x27;)</pre></div></div></div></div></div>"
      ],
      "text/plain": [
       "LogisticRegression(C=0.01, penalty='l1', solver='liblinear')"
      ]
     },
     "execution_count": 49,
     "metadata": {},
     "output_type": "execute_result"
    }
   ],
   "source": [
    "lasso_model.fit(x_tr_scaled, y_tr)"
   ]
  },
  {
   "cell_type": "code",
   "execution_count": 50,
   "id": "8d5cee1a-b644-4aaa-aa21-bd796abc6a65",
   "metadata": {},
   "outputs": [],
   "source": [
    "y_pred = log_model.predict(x_t_scaled)"
   ]
  },
  {
   "cell_type": "code",
   "execution_count": 51,
   "id": "a86209e3-c768-4247-9eb4-308afbc07731",
   "metadata": {},
   "outputs": [
    {
     "name": "stdout",
     "output_type": "stream",
     "text": [
      "Accuracy модели: 0.7593\n"
     ]
    }
   ],
   "source": [
    "accuracy = accuracy_score(y_t, y_pred)\n",
    "print(f\"Accuracy модели: {accuracy:.4f}\")"
   ]
  },
  {
   "cell_type": "code",
   "execution_count": 52,
   "id": "6122aa7b-a512-4c82-9e14-354bd2c7a9fd",
   "metadata": {},
   "outputs": [
    {
     "data": {
      "text/html": [
       "<style>#sk-container-id-7 {color: black;background-color: white;}#sk-container-id-7 pre{padding: 0;}#sk-container-id-7 div.sk-toggleable {background-color: white;}#sk-container-id-7 label.sk-toggleable__label {cursor: pointer;display: block;width: 100%;margin-bottom: 0;padding: 0.3em;box-sizing: border-box;text-align: center;}#sk-container-id-7 label.sk-toggleable__label-arrow:before {content: \"▸\";float: left;margin-right: 0.25em;color: #696969;}#sk-container-id-7 label.sk-toggleable__label-arrow:hover:before {color: black;}#sk-container-id-7 div.sk-estimator:hover label.sk-toggleable__label-arrow:before {color: black;}#sk-container-id-7 div.sk-toggleable__content {max-height: 0;max-width: 0;overflow: hidden;text-align: left;background-color: #f0f8ff;}#sk-container-id-7 div.sk-toggleable__content pre {margin: 0.2em;color: black;border-radius: 0.25em;background-color: #f0f8ff;}#sk-container-id-7 input.sk-toggleable__control:checked~div.sk-toggleable__content {max-height: 200px;max-width: 100%;overflow: auto;}#sk-container-id-7 input.sk-toggleable__control:checked~label.sk-toggleable__label-arrow:before {content: \"▾\";}#sk-container-id-7 div.sk-estimator input.sk-toggleable__control:checked~label.sk-toggleable__label {background-color: #d4ebff;}#sk-container-id-7 div.sk-label input.sk-toggleable__control:checked~label.sk-toggleable__label {background-color: #d4ebff;}#sk-container-id-7 input.sk-hidden--visually {border: 0;clip: rect(1px 1px 1px 1px);clip: rect(1px, 1px, 1px, 1px);height: 1px;margin: -1px;overflow: hidden;padding: 0;position: absolute;width: 1px;}#sk-container-id-7 div.sk-estimator {font-family: monospace;background-color: #f0f8ff;border: 1px dotted black;border-radius: 0.25em;box-sizing: border-box;margin-bottom: 0.5em;}#sk-container-id-7 div.sk-estimator:hover {background-color: #d4ebff;}#sk-container-id-7 div.sk-parallel-item::after {content: \"\";width: 100%;border-bottom: 1px solid gray;flex-grow: 1;}#sk-container-id-7 div.sk-label:hover label.sk-toggleable__label {background-color: #d4ebff;}#sk-container-id-7 div.sk-serial::before {content: \"\";position: absolute;border-left: 1px solid gray;box-sizing: border-box;top: 0;bottom: 0;left: 50%;z-index: 0;}#sk-container-id-7 div.sk-serial {display: flex;flex-direction: column;align-items: center;background-color: white;padding-right: 0.2em;padding-left: 0.2em;position: relative;}#sk-container-id-7 div.sk-item {position: relative;z-index: 1;}#sk-container-id-7 div.sk-parallel {display: flex;align-items: stretch;justify-content: center;background-color: white;position: relative;}#sk-container-id-7 div.sk-item::before, #sk-container-id-7 div.sk-parallel-item::before {content: \"\";position: absolute;border-left: 1px solid gray;box-sizing: border-box;top: 0;bottom: 0;left: 50%;z-index: -1;}#sk-container-id-7 div.sk-parallel-item {display: flex;flex-direction: column;z-index: 1;position: relative;background-color: white;}#sk-container-id-7 div.sk-parallel-item:first-child::after {align-self: flex-end;width: 50%;}#sk-container-id-7 div.sk-parallel-item:last-child::after {align-self: flex-start;width: 50%;}#sk-container-id-7 div.sk-parallel-item:only-child::after {width: 0;}#sk-container-id-7 div.sk-dashed-wrapped {border: 1px dashed gray;margin: 0 0.4em 0.5em 0.4em;box-sizing: border-box;padding-bottom: 0.4em;background-color: white;}#sk-container-id-7 div.sk-label label {font-family: monospace;font-weight: bold;display: inline-block;line-height: 1.2em;}#sk-container-id-7 div.sk-label-container {text-align: center;}#sk-container-id-7 div.sk-container {/* jupyter's `normalize.less` sets `[hidden] { display: none; }` but bootstrap.min.css set `[hidden] { display: none !important; }` so we also need the `!important` here to be able to override the default hidden behavior on the sphinx rendered scikit-learn.org. See: https://github.com/scikit-learn/scikit-learn/issues/21755 */display: inline-block !important;position: relative;}#sk-container-id-7 div.sk-text-repr-fallback {display: none;}</style><div id=\"sk-container-id-7\" class=\"sk-top-container\"><div class=\"sk-text-repr-fallback\"><pre>LogisticRegression(C=100, max_iter=10000, penalty=&#x27;l1&#x27;, solver=&#x27;saga&#x27;)</pre><b>In a Jupyter environment, please rerun this cell to show the HTML representation or trust the notebook. <br />On GitHub, the HTML representation is unable to render, please try loading this page with nbviewer.org.</b></div><div class=\"sk-container\" hidden><div class=\"sk-item\"><div class=\"sk-estimator sk-toggleable\"><input class=\"sk-toggleable__control sk-hidden--visually\" id=\"sk-estimator-id-7\" type=\"checkbox\" checked><label for=\"sk-estimator-id-7\" class=\"sk-toggleable__label sk-toggleable__label-arrow\">LogisticRegression</label><div class=\"sk-toggleable__content\"><pre>LogisticRegression(C=100, max_iter=10000, penalty=&#x27;l1&#x27;, solver=&#x27;saga&#x27;)</pre></div></div></div></div></div>"
      ],
      "text/plain": [
       "LogisticRegression(C=100, max_iter=10000, penalty='l1', solver='saga')"
      ]
     },
     "execution_count": 52,
     "metadata": {},
     "output_type": "execute_result"
    }
   ],
   "source": [
    "LassoModel = LogisticRegression(penalty = \"l1\", C = 100, solver='saga', max_iter = 10000)\n",
    "LassoModel.fit(x_tr_scaled, y_tr)"
   ]
  },
  {
   "cell_type": "code",
   "execution_count": 53,
   "id": "541e1c40-f341-421b-bb9f-14548e8b3a11",
   "metadata": {},
   "outputs": [],
   "source": [
    "lasso_pred = LassoModel.predict(x_t_scaled)"
   ]
  },
  {
   "cell_type": "code",
   "execution_count": 54,
   "id": "3d856fa9-b08f-460b-a187-daab8a6c3d0a",
   "metadata": {},
   "outputs": [
    {
     "data": {
      "text/plain": [
       "0.7674074074074074"
      ]
     },
     "execution_count": 54,
     "metadata": {},
     "output_type": "execute_result"
    }
   ],
   "source": [
    "accuracy_lasso = accuracy_score(y_t, lasso_pred)\n",
    "accuracy_lasso"
   ]
  },
  {
   "cell_type": "code",
   "execution_count": 55,
   "id": "4753ce32-80a9-43ea-8ab3-f70cdb9dd505",
   "metadata": {},
   "outputs": [
    {
     "name": "stdout",
     "output_type": "stream",
     "text": [
      "Точность на масштабированных данных без l1: 0.7592592592592593\n",
      "Точность на масштабированных данных с l1: 0.7674074074074074\n"
     ]
    }
   ],
   "source": [
    "print(\"Точность на масштабированных данных без l1:\", accuracy)\n",
    "print(\"Точность на масштабированных данных с l1:\", accuracy_lasso)"
   ]
  },
  {
   "cell_type": "markdown",
   "id": "e49a7625-b811-46a8-8a78-0d15bec7a237",
   "metadata": {},
   "source": [
    "11. Посмотрите какие получились коэффициенты признаков у нашей модели"
   ]
  },
  {
   "cell_type": "code",
   "execution_count": 56,
   "id": "e134732c-f036-45bf-a942-934b5c3016d0",
   "metadata": {},
   "outputs": [
    {
     "data": {
      "image/png": "[encoded data removed]",
      "text/plain": [
       "<Figure size 1000x800 with 1 Axes>"
      ]
     },
     "metadata": {},
     "output_type": "display_data"
    }
   ],
   "source": [
    "coefficients = LassoModel.coef_[0]\n",
    "\n",
    "plt.figure(figsize=(10,8))\n",
    "plt.barh(x.columns, coefficients)\n",
    "plt.xlabel('Признаки')\n",
    "plt.ylabel('Коэффициенты')\n",
    "plt.show()"
   ]
  },
  {
   "cell_type": "markdown",
   "id": "274abf60-2611-43d8-b1c7-f0f796f611e1",
   "metadata": {},
   "source": [
    "12. Что ж видимо признаки у которых коэффициенты по всем классам равны нулю нам не особо полезны.<br>\n",
    "Давайте выберем только те признаки у которых коэффициент не ноль и создадим новый датасет признаков"
   ]
  },
  {
   "cell_type": "code",
   "execution_count": 57,
   "id": "488bc66a-fb92-4df0-a47c-ad1186dac7a2",
   "metadata": {},
   "outputs": [
    {
     "name": "stdout",
     "output_type": "stream",
     "text": [
      "Index(['A', 'B', 'C', 'D', 'feature_1', 'feature_2', 'feature_4', 'feature_5',\n",
      "       'feature_6', 'feature_7', 'feature_8', 'feature_9', 'feature_10',\n",
      "       'feature_11', 'feature_13', 'feature_14', 'feature_15', 'feature_16',\n",
      "       'feature_17', 'feature_18', 'feature_19', 'feature_20'],\n",
      "      dtype='object')\n"
     ]
    }
   ],
   "source": [
    "selected_features = x_tr_scaled.columns[coefficients != 0]\n",
    "print(selected_features)"
   ]
  },
  {
   "cell_type": "code",
   "execution_count": 58,
   "id": "81a0d419-095c-4428-aad3-9eceac148b68",
   "metadata": {},
   "outputs": [
    {
     "name": "stdout",
     "output_type": "stream",
     "text": [
      "     A    B    C    D  feature_1  feature_2  feature_4     feature_5  \\\n",
      "0  0.0  1.0  0.0  0.0   0.474885   0.999367   0.401955  4.767853e-13   \n",
      "1  0.0  0.0  0.0  1.0   0.670151   0.720208   0.259697  0.000000e+00   \n",
      "2  0.0  0.0  0.0  1.0   0.454739   0.003327   0.405273  1.636191e-12   \n",
      "3  0.0  0.0  0.0  1.0   0.543222   0.800284   0.362265  0.000000e+00   \n",
      "4  0.0  1.0  0.0  0.0   0.772026   0.082224   0.256440  0.000000e+00   \n",
      "\n",
      "   feature_6  feature_7  ...  feature_10  feature_11  feature_13  feature_14  \\\n",
      "0   0.542375   0.006435  ...    0.501500    0.464561    0.782031    0.596870   \n",
      "1   0.694100   0.178287  ...    0.652644    0.593721    0.491039    0.649114   \n",
      "2   0.356880   0.002019  ...    0.286765    0.581423    0.731691    0.466859   \n",
      "3   0.685352   0.039966  ...    0.652183    0.537772    0.728878    0.590132   \n",
      "4   0.677815   0.360821  ...    0.340976    0.869779    0.710746    0.480353   \n",
      "\n",
      "   feature_15  feature_16  feature_17  feature_18  feature_19  feature_20  \n",
      "0    0.668991    0.501879    0.413166    0.517973    0.646002    0.662870  \n",
      "1    0.422360    0.439954    0.589522    0.537756    0.539750    0.506656  \n",
      "2    0.562620    0.513736    0.460921    0.397432    0.555198    0.524063  \n",
      "3    0.556239    0.390263    0.654925    0.611254    0.533129    0.250373  \n",
      "4    0.810784    0.388086    0.432410    0.711775    0.468795    0.469288  \n",
      "\n",
      "[5 rows x 22 columns]\n"
     ]
    }
   ],
   "source": [
    "x_tr_selected = pd.DataFrame(x_tr_scaled, columns=x_tr.columns)[selected_features]\n",
    "x_t_selected = pd.DataFrame(x_t_scaled, columns=x_t.columns)[selected_features]\n",
    "print(x_tr_selected.head())"
   ]
  },
  {
   "cell_type": "markdown",
   "id": "0c22edda-ff7f-4a62-bac3-33281dc11b40",
   "metadata": {},
   "source": [
    "13. Давайте посмотрим есть ли какая-то предсказательная способность у оставшихся признаков.<br>\n",
    "Для этого примените principal component analysis и нарисуйте эти компоненты на графике с таргетом"
   ]
  },
  {
   "cell_type": "code",
   "execution_count": 59,
   "id": "6a9cc037-bdad-45fb-9489-c1d3987de237",
   "metadata": {},
   "outputs": [],
   "source": [
    "import seaborn as sns\n",
    "pca = PCA(n_components=2)\n",
    "x_tr_pca = pca.fit_transform(x_tr_selected)\n",
    "x_t_pca = pca.fit_transform(x_t_selected)"
   ]
  },
  {
   "cell_type": "code",
   "execution_count": 60,
   "id": "978b1693-93ca-4703-9b35-9937cf1a8e69",
   "metadata": {},
   "outputs": [
    {
     "data": {
      "text/plain": [
       "(6300,)"
      ]
     },
     "execution_count": 60,
     "metadata": {},
     "output_type": "execute_result"
    }
   ],
   "source": [
    "y_tr.shape"
   ]
  },
  {
   "cell_type": "code",
   "execution_count": 61,
   "id": "96645ba6-0eda-4e7e-9590-575edd5db814",
   "metadata": {},
   "outputs": [],
   "source": [
    "pca_df = pd.DataFrame(x_tr_pca, columns=['PC1', 'PC2'])\n",
    "pca_df['Target'] = y_tr.values"
   ]
  },
  {
   "cell_type": "code",
   "execution_count": 62,
   "id": "03d4a15c-8f8d-4f64-9b45-4564d5696bea",
   "metadata": {},
   "outputs": [
    {
     "data": {
      "image/png": "[encoded data removed]",
      "text/plain": [
       "<Figure size 800x600 with 1 Axes>"
      ]
     },
     "metadata": {},
     "output_type": "display_data"
    }
   ],
   "source": [
    "plt.figure(figsize=(8, 6))\n",
    "sns.scatterplot(data=pca_df, x='PC1', y='PC2', hue='Target', palette='viridis', alpha=0.7)\n",
    "plt.title('PCA Visualization with Target')\n",
    "plt.xlabel('Principal Component 1')\n",
    "plt.ylabel('Principal Component 2')\n",
    "plt.legend(title='Target')\n",
    "plt.grid(True)\n",
    "plt.show()"
   ]
  },
  {
   "cell_type": "code",
   "execution_count": null,
   "id": "4ec83000-df65-4241-81a3-a38e670f0ad2",
   "metadata": {},
   "outputs": [],
   "source": []
  },
  {
   "cell_type": "markdown",
   "id": "f6c42789-1486-4225-9da8-357ad3424c92",
   "metadata": {},
   "source": [
    "14. Видимо что-то есть в этих признаках.<br>\n",
    "Давайте теперь попробуем построить более комплексную модель, постройте любую модель основную на деревьях.<br>\n",
    "Так же оцените вашу модель с помощью метрики accuracy"
   ]
  },
  {
   "cell_type": "code",
   "execution_count": 85,
   "id": "841cf701-8007-4cf8-be17-20257e1514f6",
   "metadata": {},
   "outputs": [],
   "source": [
    "forest_classifier = RandomForestClassifier(n_estimators=200, max_depth=7, max_features='sqrt')"
   ]
  },
  {
   "cell_type": "code",
   "execution_count": 86,
   "id": "6e9f8594-2288-453e-a3db-2d2d39a15c8d",
   "metadata": {},
   "outputs": [
    {
     "data": {
      "text/html": [
       "<style>#sk-container-id-12 {color: black;background-color: white;}#sk-container-id-12 pre{padding: 0;}#sk-container-id-12 div.sk-toggleable {background-color: white;}#sk-container-id-12 label.sk-toggleable__label {cursor: pointer;display: block;width: 100%;margin-bottom: 0;padding: 0.3em;box-sizing: border-box;text-align: center;}#sk-container-id-12 label.sk-toggleable__label-arrow:before {content: \"▸\";float: left;margin-right: 0.25em;color: #696969;}#sk-container-id-12 label.sk-toggleable__label-arrow:hover:before {color: black;}#sk-container-id-12 div.sk-estimator:hover label.sk-toggleable__label-arrow:before {color: black;}#sk-container-id-12 div.sk-toggleable__content {max-height: 0;max-width: 0;overflow: hidden;text-align: left;background-color: #f0f8ff;}#sk-container-id-12 div.sk-toggleable__content pre {margin: 0.2em;color: black;border-radius: 0.25em;background-color: #f0f8ff;}#sk-container-id-12 input.sk-toggleable__control:checked~div.sk-toggleable__content {max-height: 200px;max-width: 100%;overflow: auto;}#sk-container-id-12 input.sk-toggleable__control:checked~label.sk-toggleable__label-arrow:before {content: \"▾\";}#sk-container-id-12 div.sk-estimator input.sk-toggleable__control:checked~label.sk-toggleable__label {background-color: #d4ebff;}#sk-container-id-12 div.sk-label input.sk-toggleable__control:checked~label.sk-toggleable__label {background-color: #d4ebff;}#sk-container-id-12 input.sk-hidden--visually {border: 0;clip: rect(1px 1px 1px 1px);clip: rect(1px, 1px, 1px, 1px);height: 1px;margin: -1px;overflow: hidden;padding: 0;position: absolute;width: 1px;}#sk-container-id-12 div.sk-estimator {font-family: monospace;background-color: #f0f8ff;border: 1px dotted black;border-radius: 0.25em;box-sizing: border-box;margin-bottom: 0.5em;}#sk-container-id-12 div.sk-estimator:hover {background-color: #d4ebff;}#sk-container-id-12 div.sk-parallel-item::after {content: \"\";width: 100%;border-bottom: 1px solid gray;flex-grow: 1;}#sk-container-id-12 div.sk-label:hover label.sk-toggleable__label {background-color: #d4ebff;}#sk-container-id-12 div.sk-serial::before {content: \"\";position: absolute;border-left: 1px solid gray;box-sizing: border-box;top: 0;bottom: 0;left: 50%;z-index: 0;}#sk-container-id-12 div.sk-serial {display: flex;flex-direction: column;align-items: center;background-color: white;padding-right: 0.2em;padding-left: 0.2em;position: relative;}#sk-container-id-12 div.sk-item {position: relative;z-index: 1;}#sk-container-id-12 div.sk-parallel {display: flex;align-items: stretch;justify-content: center;background-color: white;position: relative;}#sk-container-id-12 div.sk-item::before, #sk-container-id-12 div.sk-parallel-item::before {content: \"\";position: absolute;border-left: 1px solid gray;box-sizing: border-box;top: 0;bottom: 0;left: 50%;z-index: -1;}#sk-container-id-12 div.sk-parallel-item {display: flex;flex-direction: column;z-index: 1;position: relative;background-color: white;}#sk-container-id-12 div.sk-parallel-item:first-child::after {align-self: flex-end;width: 50%;}#sk-container-id-12 div.sk-parallel-item:last-child::after {align-self: flex-start;width: 50%;}#sk-container-id-12 div.sk-parallel-item:only-child::after {width: 0;}#sk-container-id-12 div.sk-dashed-wrapped {border: 1px dashed gray;margin: 0 0.4em 0.5em 0.4em;box-sizing: border-box;padding-bottom: 0.4em;background-color: white;}#sk-container-id-12 div.sk-label label {font-family: monospace;font-weight: bold;display: inline-block;line-height: 1.2em;}#sk-container-id-12 div.sk-label-container {text-align: center;}#sk-container-id-12 div.sk-container {/* jupyter's `normalize.less` sets `[hidden] { display: none; }` but bootstrap.min.css set `[hidden] { display: none !important; }` so we also need the `!important` here to be able to override the default hidden behavior on the sphinx rendered scikit-learn.org. See: https://github.com/scikit-learn/scikit-learn/issues/21755 */display: inline-block !important;position: relative;}#sk-container-id-12 div.sk-text-repr-fallback {display: none;}</style><div id=\"sk-container-id-12\" class=\"sk-top-container\"><div class=\"sk-text-repr-fallback\"><pre>RandomForestClassifier(max_depth=7, n_estimators=200)</pre><b>In a Jupyter environment, please rerun this cell to show the HTML representation or trust the notebook. <br />On GitHub, the HTML representation is unable to render, please try loading this page with nbviewer.org.</b></div><div class=\"sk-container\" hidden><div class=\"sk-item\"><div class=\"sk-estimator sk-toggleable\"><input class=\"sk-toggleable__control sk-hidden--visually\" id=\"sk-estimator-id-14\" type=\"checkbox\" checked><label for=\"sk-estimator-id-14\" class=\"sk-toggleable__label sk-toggleable__label-arrow\">RandomForestClassifier</label><div class=\"sk-toggleable__content\"><pre>RandomForestClassifier(max_depth=7, n_estimators=200)</pre></div></div></div></div></div>"
      ],
      "text/plain": [
       "RandomForestClassifier(max_depth=7, n_estimators=200)"
      ]
     },
     "execution_count": 86,
     "metadata": {},
     "output_type": "execute_result"
    }
   ],
   "source": [
    "forest_classifier.fit(x_tr_selected, y_tr)"
   ]
  },
  {
   "cell_type": "code",
   "execution_count": 87,
   "id": "9f3f3724-6c51-4822-9c26-804413ee2d73",
   "metadata": {},
   "outputs": [
    {
     "data": {
      "text/plain": [
       "array(['Низкий доход', 'Высокий доход', 'Средний доход', ...,\n",
       "       'Высокий доход', 'Средний доход', 'Высокий доход'], dtype=object)"
      ]
     },
     "execution_count": 87,
     "metadata": {},
     "output_type": "execute_result"
    }
   ],
   "source": [
    "forest_classifier_pred = forest_classifier.predict(x_t_selected)\n",
    "forest_classifier_pred"
   ]
  },
  {
   "cell_type": "code",
   "execution_count": 88,
   "id": "73727c3f-26a7-47d9-9e82-bfd7a89c2975",
   "metadata": {},
   "outputs": [
    {
     "name": "stdout",
     "output_type": "stream",
     "text": [
      "Accuracy on the test set: 0.78\n"
     ]
    }
   ],
   "source": [
    "accuracy = accuracy_score(y_t, forest_classifier_pred)\n",
    "print(f'Accuracy on the test set: {accuracy:.2f}')"
   ]
  },
  {
   "cell_type": "code",
   "execution_count": 89,
   "id": "69ed3a2d-a80f-41fa-aaa4-c4f57e94f7ef",
   "metadata": {},
   "outputs": [
    {
     "name": "stdout",
     "output_type": "stream",
     "text": [
      "Cross-validated accuracy: 0.79\n"
     ]
    }
   ],
   "source": [
    "from sklearn.model_selection import cross_val_score\n",
    "cv_scores = cross_val_score(forest_classifier, x_tr, y_tr, cv=5, scoring='accuracy')\n",
    "\n",
    "print(f'Cross-validated accuracy: {np.mean(cv_scores):.2f}')"
   ]
  },
  {
   "cell_type": "code",
   "execution_count": 92,
   "id": "dd639e98-955b-4f9c-ad04-d0fcd7c05ff2",
   "metadata": {},
   "outputs": [],
   "source": [
    "param_grid = {\n",
    "    'n_estimators': [50, 100, 200],\n",
    "    'max_depth': [10, 20, None],\n",
    "    'min_samples_split': [2, 4, 10]\n",
    "    }"
   ]
  },
  {
   "cell_type": "code",
   "execution_count": 93,
   "id": "012aa83d-4a65-42ee-bb64-f5a1ac34d6da",
   "metadata": {},
   "outputs": [
    {
     "data": {
      "text/html": [
       "<style>#sk-container-id-13 {color: black;background-color: white;}#sk-container-id-13 pre{padding: 0;}#sk-container-id-13 div.sk-toggleable {background-color: white;}#sk-container-id-13 label.sk-toggleable__label {cursor: pointer;display: block;width: 100%;margin-bottom: 0;padding: 0.3em;box-sizing: border-box;text-align: center;}#sk-container-id-13 label.sk-toggleable__label-arrow:before {content: \"▸\";float: left;margin-right: 0.25em;color: #696969;}#sk-container-id-13 label.sk-toggleable__label-arrow:hover:before {color: black;}#sk-container-id-13 div.sk-estimator:hover label.sk-toggleable__label-arrow:before {color: black;}#sk-container-id-13 div.sk-toggleable__content {max-height: 0;max-width: 0;overflow: hidden;text-align: left;background-color: #f0f8ff;}#sk-container-id-13 div.sk-toggleable__content pre {margin: 0.2em;color: black;border-radius: 0.25em;background-color: #f0f8ff;}#sk-container-id-13 input.sk-toggleable__control:checked~div.sk-toggleable__content {max-height: 200px;max-width: 100%;overflow: auto;}#sk-container-id-13 input.sk-toggleable__control:checked~label.sk-toggleable__label-arrow:before {content: \"▾\";}#sk-container-id-13 div.sk-estimator input.sk-toggleable__control:checked~label.sk-toggleable__label {background-color: #d4ebff;}#sk-container-id-13 div.sk-label input.sk-toggleable__control:checked~label.sk-toggleable__label {background-color: #d4ebff;}#sk-container-id-13 input.sk-hidden--visually {border: 0;clip: rect(1px 1px 1px 1px);clip: rect(1px, 1px, 1px, 1px);height: 1px;margin: -1px;overflow: hidden;padding: 0;position: absolute;width: 1px;}#sk-container-id-13 div.sk-estimator {font-family: monospace;background-color: #f0f8ff;border: 1px dotted black;border-radius: 0.25em;box-sizing: border-box;margin-bottom: 0.5em;}#sk-container-id-13 div.sk-estimator:hover {background-color: #d4ebff;}#sk-container-id-13 div.sk-parallel-item::after {content: \"\";width: 100%;border-bottom: 1px solid gray;flex-grow: 1;}#sk-container-id-13 div.sk-label:hover label.sk-toggleable__label {background-color: #d4ebff;}#sk-container-id-13 div.sk-serial::before {content: \"\";position: absolute;border-left: 1px solid gray;box-sizing: border-box;top: 0;bottom: 0;left: 50%;z-index: 0;}#sk-container-id-13 div.sk-serial {display: flex;flex-direction: column;align-items: center;background-color: white;padding-right: 0.2em;padding-left: 0.2em;position: relative;}#sk-container-id-13 div.sk-item {position: relative;z-index: 1;}#sk-container-id-13 div.sk-parallel {display: flex;align-items: stretch;justify-content: center;background-color: white;position: relative;}#sk-container-id-13 div.sk-item::before, #sk-container-id-13 div.sk-parallel-item::before {content: \"\";position: absolute;border-left: 1px solid gray;box-sizing: border-box;top: 0;bottom: 0;left: 50%;z-index: -1;}#sk-container-id-13 div.sk-parallel-item {display: flex;flex-direction: column;z-index: 1;position: relative;background-color: white;}#sk-container-id-13 div.sk-parallel-item:first-child::after {align-self: flex-end;width: 50%;}#sk-container-id-13 div.sk-parallel-item:last-child::after {align-self: flex-start;width: 50%;}#sk-container-id-13 div.sk-parallel-item:only-child::after {width: 0;}#sk-container-id-13 div.sk-dashed-wrapped {border: 1px dashed gray;margin: 0 0.4em 0.5em 0.4em;box-sizing: border-box;padding-bottom: 0.4em;background-color: white;}#sk-container-id-13 div.sk-label label {font-family: monospace;font-weight: bold;display: inline-block;line-height: 1.2em;}#sk-container-id-13 div.sk-label-container {text-align: center;}#sk-container-id-13 div.sk-container {/* jupyter's `normalize.less` sets `[hidden] { display: none; }` but bootstrap.min.css set `[hidden] { display: none !important; }` so we also need the `!important` here to be able to override the default hidden behavior on the sphinx rendered scikit-learn.org. See: https://github.com/scikit-learn/scikit-learn/issues/21755 */display: inline-block !important;position: relative;}#sk-container-id-13 div.sk-text-repr-fallback {display: none;}</style><div id=\"sk-container-id-13\" class=\"sk-top-container\"><div class=\"sk-text-repr-fallback\"><pre>GridSearchCV(cv=5, estimator=RandomForestClassifier(random_state=42),\n",
       "             param_grid={&#x27;max_depth&#x27;: [10, 20, None],\n",
       "                         &#x27;min_samples_split&#x27;: [2, 4, 10],\n",
       "                         &#x27;n_estimators&#x27;: [50, 100, 200]},\n",
       "             scoring=&#x27;accuracy&#x27;)</pre><b>In a Jupyter environment, please rerun this cell to show the HTML representation or trust the notebook. <br />On GitHub, the HTML representation is unable to render, please try loading this page with nbviewer.org.</b></div><div class=\"sk-container\" hidden><div class=\"sk-item sk-dashed-wrapped\"><div class=\"sk-label-container\"><div class=\"sk-label sk-toggleable\"><input class=\"sk-toggleable__control sk-hidden--visually\" id=\"sk-estimator-id-15\" type=\"checkbox\" ><label for=\"sk-estimator-id-15\" class=\"sk-toggleable__label sk-toggleable__label-arrow\">GridSearchCV</label><div class=\"sk-toggleable__content\"><pre>GridSearchCV(cv=5, estimator=RandomForestClassifier(random_state=42),\n",
       "             param_grid={&#x27;max_depth&#x27;: [10, 20, None],\n",
       "                         &#x27;min_samples_split&#x27;: [2, 4, 10],\n",
       "                         &#x27;n_estimators&#x27;: [50, 100, 200]},\n",
       "             scoring=&#x27;accuracy&#x27;)</pre></div></div></div><div class=\"sk-parallel\"><div class=\"sk-parallel-item\"><div class=\"sk-item\"><div class=\"sk-label-container\"><div class=\"sk-label sk-toggleable\"><input class=\"sk-toggleable__control sk-hidden--visually\" id=\"sk-estimator-id-16\" type=\"checkbox\" ><label for=\"sk-estimator-id-16\" class=\"sk-toggleable__label sk-toggleable__label-arrow\">estimator: RandomForestClassifier</label><div class=\"sk-toggleable__content\"><pre>RandomForestClassifier(random_state=42)</pre></div></div></div><div class=\"sk-serial\"><div class=\"sk-item\"><div class=\"sk-estimator sk-toggleable\"><input class=\"sk-toggleable__control sk-hidden--visually\" id=\"sk-estimator-id-17\" type=\"checkbox\" ><label for=\"sk-estimator-id-17\" class=\"sk-toggleable__label sk-toggleable__label-arrow\">RandomForestClassifier</label><div class=\"sk-toggleable__content\"><pre>RandomForestClassifier(random_state=42)</pre></div></div></div></div></div></div></div></div></div></div>"
      ],
      "text/plain": [
       "GridSearchCV(cv=5, estimator=RandomForestClassifier(random_state=42),\n",
       "             param_grid={'max_depth': [10, 20, None],\n",
       "                         'min_samples_split': [2, 4, 10],\n",
       "                         'n_estimators': [50, 100, 200]},\n",
       "             scoring='accuracy')"
      ]
     },
     "execution_count": 93,
     "metadata": {},
     "output_type": "execute_result"
    }
   ],
   "source": [
    "grid_search = GridSearchCV(estimator=RandomForestClassifier(random_state=42), param_grid=param_grid, cv=5, scoring='accuracy')\n",
    "grid_search.fit(x_tr_selected, y_tr)"
   ]
  },
  {
   "cell_type": "code",
   "execution_count": 94,
   "id": "fd3dfecf-854a-4708-b301-eafea34deb9b",
   "metadata": {},
   "outputs": [
    {
     "name": "stdout",
     "output_type": "stream",
     "text": [
      "Best parameters: {'max_depth': 20, 'min_samples_split': 2, 'n_estimators': 100}\n"
     ]
    }
   ],
   "source": [
    "best_model = grid_search.best_estimator_\n",
    "print(\"Best parameters:\", grid_search.best_params_)"
   ]
  },
  {
   "cell_type": "code",
   "execution_count": 95,
   "id": "9b731b66-d6aa-485b-9917-2f88a2c4ffb5",
   "metadata": {},
   "outputs": [
    {
     "name": "stdout",
     "output_type": "stream",
     "text": [
      "Accuracy on the test set: 0.81\n"
     ]
    }
   ],
   "source": [
    "y_predict = grid_search.predict(x_t_selected)\n",
    "accuracy = accuracy_score(y_t, y_predict)\n",
    "\n",
    "print(f'Accuracy on the test set: {accuracy:.2f}')"
   ]
  },
  {
   "cell_type": "markdown",
   "id": "d3c2fe39-2672-4c10-acb1-b808717720b8",
   "metadata": {},
   "source": [
    "15. Давайте попробуем применить другой тип модели.<br>\n",
    "Постройте SVM модель и оцените ее accuracy"
   ]
  },
  {
   "cell_type": "code",
   "execution_count": 115,
   "id": "ca86e30e-abdc-40e4-808a-1ff2cabde730",
   "metadata": {},
   "outputs": [],
   "source": [
    "svm_model = SVC(kernel='rbf', C=1)"
   ]
  },
  {
   "cell_type": "code",
   "execution_count": 116,
   "id": "2701b91a-a5f1-46c4-8b56-17b0ebe7ab51",
   "metadata": {},
   "outputs": [
    {
     "name": "stdout",
     "output_type": "stream",
     "text": [
      "Accuracy on the test set: 0.77\n"
     ]
    }
   ],
   "source": [
    "svm_model.fit(x_tr_selected, y_tr)\n",
    "svm_pred = svm_model.predict(x_t_selected)\n",
    "accuracy = accuracy_score(y_t, svm_pred)\n",
    "print(f'Accuracy on the test set: {accuracy:.2f}')"
   ]
  },
  {
   "cell_type": "code",
   "execution_count": 117,
   "id": "45b574e9-82d7-4f8a-b692-f7ecde9d794d",
   "metadata": {},
   "outputs": [
    {
     "name": "stdout",
     "output_type": "stream",
     "text": [
      "Cross-validated accuracy: 0.77\n"
     ]
    }
   ],
   "source": [
    "cv_scores1 = cross_val_score(svm_model, x_tr_selected, y_tr, cv=5, scoring='accuracy')\n",
    "print(f'Cross-validated accuracy: {np.mean(cv_scores1):.2f}')"
   ]
  },
  {
   "cell_type": "markdown",
   "id": "627ad732-7581-4862-8d6b-d8ae3a018556",
   "metadata": {},
   "source": [
    "15. Давайте попробуем применить другой тип модели.<br>\n",
    "Постройте KNN модель и оцените ее accuracy"
   ]
  },
  {
   "cell_type": "code",
   "execution_count": 99,
   "id": "763efacf-2d9a-47b2-9942-a84711795a0d",
   "metadata": {},
   "outputs": [
    {
     "data": {
      "text/html": [
       "<style>#sk-container-id-14 {color: black;background-color: white;}#sk-container-id-14 pre{padding: 0;}#sk-container-id-14 div.sk-toggleable {background-color: white;}#sk-container-id-14 label.sk-toggleable__label {cursor: pointer;display: block;width: 100%;margin-bottom: 0;padding: 0.3em;box-sizing: border-box;text-align: center;}#sk-container-id-14 label.sk-toggleable__label-arrow:before {content: \"▸\";float: left;margin-right: 0.25em;color: #696969;}#sk-container-id-14 label.sk-toggleable__label-arrow:hover:before {color: black;}#sk-container-id-14 div.sk-estimator:hover label.sk-toggleable__label-arrow:before {color: black;}#sk-container-id-14 div.sk-toggleable__content {max-height: 0;max-width: 0;overflow: hidden;text-align: left;background-color: #f0f8ff;}#sk-container-id-14 div.sk-toggleable__content pre {margin: 0.2em;color: black;border-radius: 0.25em;background-color: #f0f8ff;}#sk-container-id-14 input.sk-toggleable__control:checked~div.sk-toggleable__content {max-height: 200px;max-width: 100%;overflow: auto;}#sk-container-id-14 input.sk-toggleable__control:checked~label.sk-toggleable__label-arrow:before {content: \"▾\";}#sk-container-id-14 div.sk-estimator input.sk-toggleable__control:checked~label.sk-toggleable__label {background-color: #d4ebff;}#sk-container-id-14 div.sk-label input.sk-toggleable__control:checked~label.sk-toggleable__label {background-color: #d4ebff;}#sk-container-id-14 input.sk-hidden--visually {border: 0;clip: rect(1px 1px 1px 1px);clip: rect(1px, 1px, 1px, 1px);height: 1px;margin: -1px;overflow: hidden;padding: 0;position: absolute;width: 1px;}#sk-container-id-14 div.sk-estimator {font-family: monospace;background-color: #f0f8ff;border: 1px dotted black;border-radius: 0.25em;box-sizing: border-box;margin-bottom: 0.5em;}#sk-container-id-14 div.sk-estimator:hover {background-color: #d4ebff;}#sk-container-id-14 div.sk-parallel-item::after {content: \"\";width: 100%;border-bottom: 1px solid gray;flex-grow: 1;}#sk-container-id-14 div.sk-label:hover label.sk-toggleable__label {background-color: #d4ebff;}#sk-container-id-14 div.sk-serial::before {content: \"\";position: absolute;border-left: 1px solid gray;box-sizing: border-box;top: 0;bottom: 0;left: 50%;z-index: 0;}#sk-container-id-14 div.sk-serial {display: flex;flex-direction: column;align-items: center;background-color: white;padding-right: 0.2em;padding-left: 0.2em;position: relative;}#sk-container-id-14 div.sk-item {position: relative;z-index: 1;}#sk-container-id-14 div.sk-parallel {display: flex;align-items: stretch;justify-content: center;background-color: white;position: relative;}#sk-container-id-14 div.sk-item::before, #sk-container-id-14 div.sk-parallel-item::before {content: \"\";position: absolute;border-left: 1px solid gray;box-sizing: border-box;top: 0;bottom: 0;left: 50%;z-index: -1;}#sk-container-id-14 div.sk-parallel-item {display: flex;flex-direction: column;z-index: 1;position: relative;background-color: white;}#sk-container-id-14 div.sk-parallel-item:first-child::after {align-self: flex-end;width: 50%;}#sk-container-id-14 div.sk-parallel-item:last-child::after {align-self: flex-start;width: 50%;}#sk-container-id-14 div.sk-parallel-item:only-child::after {width: 0;}#sk-container-id-14 div.sk-dashed-wrapped {border: 1px dashed gray;margin: 0 0.4em 0.5em 0.4em;box-sizing: border-box;padding-bottom: 0.4em;background-color: white;}#sk-container-id-14 div.sk-label label {font-family: monospace;font-weight: bold;display: inline-block;line-height: 1.2em;}#sk-container-id-14 div.sk-label-container {text-align: center;}#sk-container-id-14 div.sk-container {/* jupyter's `normalize.less` sets `[hidden] { display: none; }` but bootstrap.min.css set `[hidden] { display: none !important; }` so we also need the `!important` here to be able to override the default hidden behavior on the sphinx rendered scikit-learn.org. See: https://github.com/scikit-learn/scikit-learn/issues/21755 */display: inline-block !important;position: relative;}#sk-container-id-14 div.sk-text-repr-fallback {display: none;}</style><div id=\"sk-container-id-14\" class=\"sk-top-container\"><div class=\"sk-text-repr-fallback\"><pre>KNeighborsClassifier()</pre><b>In a Jupyter environment, please rerun this cell to show the HTML representation or trust the notebook. <br />On GitHub, the HTML representation is unable to render, please try loading this page with nbviewer.org.</b></div><div class=\"sk-container\" hidden><div class=\"sk-item\"><div class=\"sk-estimator sk-toggleable\"><input class=\"sk-toggleable__control sk-hidden--visually\" id=\"sk-estimator-id-18\" type=\"checkbox\" checked><label for=\"sk-estimator-id-18\" class=\"sk-toggleable__label sk-toggleable__label-arrow\">KNeighborsClassifier</label><div class=\"sk-toggleable__content\"><pre>KNeighborsClassifier()</pre></div></div></div></div></div>"
      ],
      "text/plain": [
       "KNeighborsClassifier()"
      ]
     },
     "execution_count": 99,
     "metadata": {},
     "output_type": "execute_result"
    }
   ],
   "source": [
    "knn_classifier = KNeighborsClassifier(n_neighbors=5)\n",
    "knn_classifier.fit(x_tr_selected, y_tr)"
   ]
  },
  {
   "cell_type": "code",
   "execution_count": 100,
   "id": "9ee092c9-abad-44c2-a472-f1517c1dfb7a",
   "metadata": {},
   "outputs": [
    {
     "name": "stdout",
     "output_type": "stream",
     "text": [
      "Accuracy on the test set: 0.69\n"
     ]
    }
   ],
   "source": [
    "knn_pred = knn_classifier.predict(x_t_selected)\n",
    "accuracy = accuracy_score(y_t, knn_pred)\n",
    "print(f'Accuracy on the test set: {accuracy:.2f}')"
   ]
  },
  {
   "cell_type": "code",
   "execution_count": 109,
   "id": "a46aa4e4-a838-4956-9e5b-7ef4fd35f49e",
   "metadata": {},
   "outputs": [
    {
     "data": {
      "text/html": [
       "<style>#sk-container-id-17 {color: black;background-color: white;}#sk-container-id-17 pre{padding: 0;}#sk-container-id-17 div.sk-toggleable {background-color: white;}#sk-container-id-17 label.sk-toggleable__label {cursor: pointer;display: block;width: 100%;margin-bottom: 0;padding: 0.3em;box-sizing: border-box;text-align: center;}#sk-container-id-17 label.sk-toggleable__label-arrow:before {content: \"▸\";float: left;margin-right: 0.25em;color: #696969;}#sk-container-id-17 label.sk-toggleable__label-arrow:hover:before {color: black;}#sk-container-id-17 div.sk-estimator:hover label.sk-toggleable__label-arrow:before {color: black;}#sk-container-id-17 div.sk-toggleable__content {max-height: 0;max-width: 0;overflow: hidden;text-align: left;background-color: #f0f8ff;}#sk-container-id-17 div.sk-toggleable__content pre {margin: 0.2em;color: black;border-radius: 0.25em;background-color: #f0f8ff;}#sk-container-id-17 input.sk-toggleable__control:checked~div.sk-toggleable__content {max-height: 200px;max-width: 100%;overflow: auto;}#sk-container-id-17 input.sk-toggleable__control:checked~label.sk-toggleable__label-arrow:before {content: \"▾\";}#sk-container-id-17 div.sk-estimator input.sk-toggleable__control:checked~label.sk-toggleable__label {background-color: #d4ebff;}#sk-container-id-17 div.sk-label input.sk-toggleable__control:checked~label.sk-toggleable__label {background-color: #d4ebff;}#sk-container-id-17 input.sk-hidden--visually {border: 0;clip: rect(1px 1px 1px 1px);clip: rect(1px, 1px, 1px, 1px);height: 1px;margin: -1px;overflow: hidden;padding: 0;position: absolute;width: 1px;}#sk-container-id-17 div.sk-estimator {font-family: monospace;background-color: #f0f8ff;border: 1px dotted black;border-radius: 0.25em;box-sizing: border-box;margin-bottom: 0.5em;}#sk-container-id-17 div.sk-estimator:hover {background-color: #d4ebff;}#sk-container-id-17 div.sk-parallel-item::after {content: \"\";width: 100%;border-bottom: 1px solid gray;flex-grow: 1;}#sk-container-id-17 div.sk-label:hover label.sk-toggleable__label {background-color: #d4ebff;}#sk-container-id-17 div.sk-serial::before {content: \"\";position: absolute;border-left: 1px solid gray;box-sizing: border-box;top: 0;bottom: 0;left: 50%;z-index: 0;}#sk-container-id-17 div.sk-serial {display: flex;flex-direction: column;align-items: center;background-color: white;padding-right: 0.2em;padding-left: 0.2em;position: relative;}#sk-container-id-17 div.sk-item {position: relative;z-index: 1;}#sk-container-id-17 div.sk-parallel {display: flex;align-items: stretch;justify-content: center;background-color: white;position: relative;}#sk-container-id-17 div.sk-item::before, #sk-container-id-17 div.sk-parallel-item::before {content: \"\";position: absolute;border-left: 1px solid gray;box-sizing: border-box;top: 0;bottom: 0;left: 50%;z-index: -1;}#sk-container-id-17 div.sk-parallel-item {display: flex;flex-direction: column;z-index: 1;position: relative;background-color: white;}#sk-container-id-17 div.sk-parallel-item:first-child::after {align-self: flex-end;width: 50%;}#sk-container-id-17 div.sk-parallel-item:last-child::after {align-self: flex-start;width: 50%;}#sk-container-id-17 div.sk-parallel-item:only-child::after {width: 0;}#sk-container-id-17 div.sk-dashed-wrapped {border: 1px dashed gray;margin: 0 0.4em 0.5em 0.4em;box-sizing: border-box;padding-bottom: 0.4em;background-color: white;}#sk-container-id-17 div.sk-label label {font-family: monospace;font-weight: bold;display: inline-block;line-height: 1.2em;}#sk-container-id-17 div.sk-label-container {text-align: center;}#sk-container-id-17 div.sk-container {/* jupyter's `normalize.less` sets `[hidden] { display: none; }` but bootstrap.min.css set `[hidden] { display: none !important; }` so we also need the `!important` here to be able to override the default hidden behavior on the sphinx rendered scikit-learn.org. See: https://github.com/scikit-learn/scikit-learn/issues/21755 */display: inline-block !important;position: relative;}#sk-container-id-17 div.sk-text-repr-fallback {display: none;}</style><div id=\"sk-container-id-17\" class=\"sk-top-container\"><div class=\"sk-text-repr-fallback\"><pre>GridSearchCV(cv=3, estimator=KNeighborsClassifier(),\n",
       "             param_grid={&#x27;n_neighbors&#x27;: range(2, 21)}, scoring=&#x27;accuracy&#x27;)</pre><b>In a Jupyter environment, please rerun this cell to show the HTML representation or trust the notebook. <br />On GitHub, the HTML representation is unable to render, please try loading this page with nbviewer.org.</b></div><div class=\"sk-container\" hidden><div class=\"sk-item sk-dashed-wrapped\"><div class=\"sk-label-container\"><div class=\"sk-label sk-toggleable\"><input class=\"sk-toggleable__control sk-hidden--visually\" id=\"sk-estimator-id-23\" type=\"checkbox\" ><label for=\"sk-estimator-id-23\" class=\"sk-toggleable__label sk-toggleable__label-arrow\">GridSearchCV</label><div class=\"sk-toggleable__content\"><pre>GridSearchCV(cv=3, estimator=KNeighborsClassifier(),\n",
       "             param_grid={&#x27;n_neighbors&#x27;: range(2, 21)}, scoring=&#x27;accuracy&#x27;)</pre></div></div></div><div class=\"sk-parallel\"><div class=\"sk-parallel-item\"><div class=\"sk-item\"><div class=\"sk-label-container\"><div class=\"sk-label sk-toggleable\"><input class=\"sk-toggleable__control sk-hidden--visually\" id=\"sk-estimator-id-24\" type=\"checkbox\" ><label for=\"sk-estimator-id-24\" class=\"sk-toggleable__label sk-toggleable__label-arrow\">estimator: KNeighborsClassifier</label><div class=\"sk-toggleable__content\"><pre>KNeighborsClassifier()</pre></div></div></div><div class=\"sk-serial\"><div class=\"sk-item\"><div class=\"sk-estimator sk-toggleable\"><input class=\"sk-toggleable__control sk-hidden--visually\" id=\"sk-estimator-id-25\" type=\"checkbox\" ><label for=\"sk-estimator-id-25\" class=\"sk-toggleable__label sk-toggleable__label-arrow\">KNeighborsClassifier</label><div class=\"sk-toggleable__content\"><pre>KNeighborsClassifier()</pre></div></div></div></div></div></div></div></div></div></div>"
      ],
      "text/plain": [
       "GridSearchCV(cv=3, estimator=KNeighborsClassifier(),\n",
       "             param_grid={'n_neighbors': range(2, 21)}, scoring='accuracy')"
      ]
     },
     "execution_count": 109,
     "metadata": {},
     "output_type": "execute_result"
    }
   ],
   "source": [
    "params = {'n_neighbors': range(2, 21)}\n",
    "knn_search_classifier = GridSearchCV(KNeighborsClassifier(), params, cv=3, scoring='accuracy')\n",
    "knn_search_classifier.fit(x_tr_selected, y_tr)"
   ]
  },
  {
   "cell_type": "code",
   "execution_count": 113,
   "id": "e84043a6-7529-409b-a1dd-9556328b0b07",
   "metadata": {},
   "outputs": [
    {
     "data": {
      "text/html": [
       "<style>#sk-container-id-20 {color: black;background-color: white;}#sk-container-id-20 pre{padding: 0;}#sk-container-id-20 div.sk-toggleable {background-color: white;}#sk-container-id-20 label.sk-toggleable__label {cursor: pointer;display: block;width: 100%;margin-bottom: 0;padding: 0.3em;box-sizing: border-box;text-align: center;}#sk-container-id-20 label.sk-toggleable__label-arrow:before {content: \"▸\";float: left;margin-right: 0.25em;color: #696969;}#sk-container-id-20 label.sk-toggleable__label-arrow:hover:before {color: black;}#sk-container-id-20 div.sk-estimator:hover label.sk-toggleable__label-arrow:before {color: black;}#sk-container-id-20 div.sk-toggleable__content {max-height: 0;max-width: 0;overflow: hidden;text-align: left;background-color: #f0f8ff;}#sk-container-id-20 div.sk-toggleable__content pre {margin: 0.2em;color: black;border-radius: 0.25em;background-color: #f0f8ff;}#sk-container-id-20 input.sk-toggleable__control:checked~div.sk-toggleable__content {max-height: 200px;max-width: 100%;overflow: auto;}#sk-container-id-20 input.sk-toggleable__control:checked~label.sk-toggleable__label-arrow:before {content: \"▾\";}#sk-container-id-20 div.sk-estimator input.sk-toggleable__control:checked~label.sk-toggleable__label {background-color: #d4ebff;}#sk-container-id-20 div.sk-label input.sk-toggleable__control:checked~label.sk-toggleable__label {background-color: #d4ebff;}#sk-container-id-20 input.sk-hidden--visually {border: 0;clip: rect(1px 1px 1px 1px);clip: rect(1px, 1px, 1px, 1px);height: 1px;margin: -1px;overflow: hidden;padding: 0;position: absolute;width: 1px;}#sk-container-id-20 div.sk-estimator {font-family: monospace;background-color: #f0f8ff;border: 1px dotted black;border-radius: 0.25em;box-sizing: border-box;margin-bottom: 0.5em;}#sk-container-id-20 div.sk-estimator:hover {background-color: #d4ebff;}#sk-container-id-20 div.sk-parallel-item::after {content: \"\";width: 100%;border-bottom: 1px solid gray;flex-grow: 1;}#sk-container-id-20 div.sk-label:hover label.sk-toggleable__label {background-color: #d4ebff;}#sk-container-id-20 div.sk-serial::before {content: \"\";position: absolute;border-left: 1px solid gray;box-sizing: border-box;top: 0;bottom: 0;left: 50%;z-index: 0;}#sk-container-id-20 div.sk-serial {display: flex;flex-direction: column;align-items: center;background-color: white;padding-right: 0.2em;padding-left: 0.2em;position: relative;}#sk-container-id-20 div.sk-item {position: relative;z-index: 1;}#sk-container-id-20 div.sk-parallel {display: flex;align-items: stretch;justify-content: center;background-color: white;position: relative;}#sk-container-id-20 div.sk-item::before, #sk-container-id-20 div.sk-parallel-item::before {content: \"\";position: absolute;border-left: 1px solid gray;box-sizing: border-box;top: 0;bottom: 0;left: 50%;z-index: -1;}#sk-container-id-20 div.sk-parallel-item {display: flex;flex-direction: column;z-index: 1;position: relative;background-color: white;}#sk-container-id-20 div.sk-parallel-item:first-child::after {align-self: flex-end;width: 50%;}#sk-container-id-20 div.sk-parallel-item:last-child::after {align-self: flex-start;width: 50%;}#sk-container-id-20 div.sk-parallel-item:only-child::after {width: 0;}#sk-container-id-20 div.sk-dashed-wrapped {border: 1px dashed gray;margin: 0 0.4em 0.5em 0.4em;box-sizing: border-box;padding-bottom: 0.4em;background-color: white;}#sk-container-id-20 div.sk-label label {font-family: monospace;font-weight: bold;display: inline-block;line-height: 1.2em;}#sk-container-id-20 div.sk-label-container {text-align: center;}#sk-container-id-20 div.sk-container {/* jupyter's `normalize.less` sets `[hidden] { display: none; }` but bootstrap.min.css set `[hidden] { display: none !important; }` so we also need the `!important` here to be able to override the default hidden behavior on the sphinx rendered scikit-learn.org. See: https://github.com/scikit-learn/scikit-learn/issues/21755 */display: inline-block !important;position: relative;}#sk-container-id-20 div.sk-text-repr-fallback {display: none;}</style><div id=\"sk-container-id-20\" class=\"sk-top-container\"><div class=\"sk-text-repr-fallback\"><pre>KNeighborsClassifier(n_neighbors=20)</pre><b>In a Jupyter environment, please rerun this cell to show the HTML representation or trust the notebook. <br />On GitHub, the HTML representation is unable to render, please try loading this page with nbviewer.org.</b></div><div class=\"sk-container\" hidden><div class=\"sk-item\"><div class=\"sk-estimator sk-toggleable\"><input class=\"sk-toggleable__control sk-hidden--visually\" id=\"sk-estimator-id-28\" type=\"checkbox\" checked><label for=\"sk-estimator-id-28\" class=\"sk-toggleable__label sk-toggleable__label-arrow\">KNeighborsClassifier</label><div class=\"sk-toggleable__content\"><pre>KNeighborsClassifier(n_neighbors=20)</pre></div></div></div></div></div>"
      ],
      "text/plain": [
       "KNeighborsClassifier(n_neighbors=20)"
      ]
     },
     "execution_count": 113,
     "metadata": {},
     "output_type": "execute_result"
    }
   ],
   "source": [
    "best_k = knn_search_classifier.best_params_['n_neighbors']\n",
    "knn = KNeighborsClassifier(n_neighbors=best_k)\n",
    "knn.fit(x_tr_selected, y_tr)"
   ]
  },
  {
   "cell_type": "code",
   "execution_count": 114,
   "id": "5d5e7356-6a74-48a0-b154-8646bb80157a",
   "metadata": {},
   "outputs": [
    {
     "name": "stdout",
     "output_type": "stream",
     "text": [
      "Accuracy on the test set: 0.71\n"
     ]
    }
   ],
   "source": [
    "y_pred = knn.predict(x_t_selected)\n",
    "accuracy = accuracy_score(y_t, y_pred)\n",
    "\n",
    "print(f'Accuracy on the test set: {accuracy:.2f}')"
   ]
  },
  {
   "cell_type": "markdown",
   "id": "36aea534-3b3c-4d2e-84ec-ec39f38664b6",
   "metadata": {},
   "source": [
    "### Отправляем работы\n",
    "Ну чтож думаю вы попробовали разные модели, надеюсь вы находили лучшие гиперпараметры, ведь пора соревноваться в результатах.<br>\n",
    "Для этого вам нужно скачать 'test_dataset.csv'<br>\n",
    "Применить все преобразования что вы делали на стадии обучения модели<br>\n",
    "Выбрать вашу лучшую модель и сделать предсказания классов для этого датасета<br>\n",
    "Внимание ваш результат должен быть csv файлом состоящим из двух колонок: ID (от 0 до 999) и cat_target (ваши прогнозы 0/1/2)\n",
    "Отправить свои результаты вы можете на соревнование Kaggle по ссылке: https://www.kaggle.com/t/6fcb93642fe949aa9c6fb7875fb1b64e<br>\n"
   ]
  },
  {
   "cell_type": "code",
   "execution_count": null,
   "id": "3a525f48-8dd9-46f1-847d-6c6fc86e8731",
   "metadata": {},
   "outputs": [],
   "source": []
  }
 ],
 "metadata": {
  "kernelspec": {
   "display_name": "Python 3 (ipykernel)",
   "language": "python",
   "name": "python3"
  },
  "language_info": {
   "codemirror_mode": {
    "name": "ipython",
    "version": 3
   },
   "file_extension": ".py",
   "mimetype": "text/x-python",
   "name": "python",
   "nbconvert_exporter": "python",
   "pygments_lexer": "ipython3",
   "version": "3.11.7"
  }
 },
 "nbformat": 4,
 "nbformat_minor": 5
}
