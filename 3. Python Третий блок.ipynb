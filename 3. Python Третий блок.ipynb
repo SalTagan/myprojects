{
 "cells": [
  {
   "cell_type": "code",
   "execution_count": 1,
   "id": "9ce99f39-48a2-4ac4-b2df-c453e3aa965a",
   "metadata": {},
   "outputs": [],
   "source": [
    "import pandas as pd\n",
    "import seaborn as sns"
   ]
  },
  {
   "cell_type": "code",
   "execution_count": 2,
   "id": "813f14ee-0e0f-4127-90b1-e827b08fd7c5",
   "metadata": {},
   "outputs": [],
   "source": [
    "df = pd.read_csv('data.csv')"
   ]
  },
  {
   "cell_type": "code",
   "execution_count": 3,
   "id": "cb93cd35-eb62-49b2-a240-98fafcada1f5",
   "metadata": {},
   "outputs": [
    {
     "data": {
      "text/html": [
       "<div>\n",
       "<style scoped>\n",
       "    .dataframe tbody tr th:only-of-type {\n",
       "        vertical-align: middle;\n",
       "    }\n",
       "\n",
       "    .dataframe tbody tr th {\n",
       "        vertical-align: top;\n",
       "    }\n",
       "\n",
       "    .dataframe thead th {\n",
       "        text-align: right;\n",
       "    }\n",
       "</style>\n",
       "<table border=\"1\" class=\"dataframe\">\n",
       "  <thead>\n",
       "    <tr style=\"text-align: right;\">\n",
       "      <th></th>\n",
       "      <th>job_title</th>\n",
       "      <th>hh_title</th>\n",
       "      <th>age</th>\n",
       "      <th>salary</th>\n",
       "      <th>exp. period</th>\n",
       "      <th>title of exp.</th>\n",
       "    </tr>\n",
       "  </thead>\n",
       "  <tbody>\n",
       "    <tr>\n",
       "      <th>0</th>\n",
       "      <td>data analyst</td>\n",
       "      <td>Data analyst</td>\n",
       "      <td>22.0</td>\n",
       "      <td>NaN</td>\n",
       "      <td>2.67</td>\n",
       "      <td>Data Analyst</td>\n",
       "    </tr>\n",
       "    <tr>\n",
       "      <th>1</th>\n",
       "      <td>data analyst</td>\n",
       "      <td>Data Analyst</td>\n",
       "      <td>21.0</td>\n",
       "      <td>NaN</td>\n",
       "      <td>0.83</td>\n",
       "      <td>Junior Data Analyst</td>\n",
       "    </tr>\n",
       "    <tr>\n",
       "      <th>2</th>\n",
       "      <td>data analyst</td>\n",
       "      <td>Data Analyst</td>\n",
       "      <td>30.0</td>\n",
       "      <td>NaN</td>\n",
       "      <td>7.50</td>\n",
       "      <td>Data Analyst</td>\n",
       "    </tr>\n",
       "    <tr>\n",
       "      <th>3</th>\n",
       "      <td>data analyst</td>\n",
       "      <td>Data Analyst</td>\n",
       "      <td>24.0</td>\n",
       "      <td>NaN</td>\n",
       "      <td>4.92</td>\n",
       "      <td>Data Analyst</td>\n",
       "    </tr>\n",
       "    <tr>\n",
       "      <th>4</th>\n",
       "      <td>data analyst</td>\n",
       "      <td>Data Analyst</td>\n",
       "      <td>27.0</td>\n",
       "      <td>450000.0</td>\n",
       "      <td>3.25</td>\n",
       "      <td>Business Intelligence Analyst</td>\n",
       "    </tr>\n",
       "  </tbody>\n",
       "</table>\n",
       "</div>"
      ],
      "text/plain": [
       "      job_title      hh_title   age    salary  exp. period  \\\n",
       "0  data analyst  Data analyst  22.0       NaN         2.67   \n",
       "1  data analyst  Data Analyst  21.0       NaN         0.83   \n",
       "2  data analyst  Data Analyst  30.0       NaN         7.50   \n",
       "3  data analyst  Data Analyst  24.0       NaN         4.92   \n",
       "4  data analyst  Data Analyst  27.0  450000.0         3.25   \n",
       "\n",
       "                   title of exp.  \n",
       "0                   Data Analyst  \n",
       "1            Junior Data Analyst  \n",
       "2                   Data Analyst  \n",
       "3                   Data Analyst  \n",
       "4  Business Intelligence Analyst  "
      ]
     },
     "execution_count": 3,
     "metadata": {},
     "output_type": "execute_result"
    }
   ],
   "source": [
    "df.head()"
   ]
  },
  {
   "cell_type": "code",
   "execution_count": 4,
   "id": "4a54810d-21d4-440e-afa1-a6c27a08df7a",
   "metadata": {},
   "outputs": [],
   "source": [
    "b = df.drop(['hh_title', 'title of exp.'], axis=1)"
   ]
  },
  {
   "cell_type": "code",
   "execution_count": 13,
   "id": "366be598-a0c7-4dad-81e4-b10a3eedc3c7",
   "metadata": {},
   "outputs": [
    {
     "data": {
      "text/html": [
       "<div>\n",
       "<style scoped>\n",
       "    .dataframe tbody tr th:only-of-type {\n",
       "        vertical-align: middle;\n",
       "    }\n",
       "\n",
       "    .dataframe tbody tr th {\n",
       "        vertical-align: top;\n",
       "    }\n",
       "\n",
       "    .dataframe thead th {\n",
       "        text-align: right;\n",
       "    }\n",
       "</style>\n",
       "<table border=\"1\" class=\"dataframe\">\n",
       "  <thead>\n",
       "    <tr style=\"text-align: right;\">\n",
       "      <th></th>\n",
       "      <th>job_title</th>\n",
       "      <th>age</th>\n",
       "      <th>salary</th>\n",
       "      <th>exp. period</th>\n",
       "    </tr>\n",
       "  </thead>\n",
       "  <tbody>\n",
       "    <tr>\n",
       "      <th>0</th>\n",
       "      <td>data analyst</td>\n",
       "      <td>22.0</td>\n",
       "      <td>535354.761905</td>\n",
       "      <td>2.67</td>\n",
       "    </tr>\n",
       "    <tr>\n",
       "      <th>1</th>\n",
       "      <td>data analyst</td>\n",
       "      <td>21.0</td>\n",
       "      <td>535354.761905</td>\n",
       "      <td>0.83</td>\n",
       "    </tr>\n",
       "    <tr>\n",
       "      <th>2</th>\n",
       "      <td>data analyst</td>\n",
       "      <td>30.0</td>\n",
       "      <td>535354.761905</td>\n",
       "      <td>7.50</td>\n",
       "    </tr>\n",
       "    <tr>\n",
       "      <th>3</th>\n",
       "      <td>data analyst</td>\n",
       "      <td>24.0</td>\n",
       "      <td>535354.761905</td>\n",
       "      <td>4.92</td>\n",
       "    </tr>\n",
       "    <tr>\n",
       "      <th>4</th>\n",
       "      <td>data analyst</td>\n",
       "      <td>27.0</td>\n",
       "      <td>450000.000000</td>\n",
       "      <td>3.25</td>\n",
       "    </tr>\n",
       "  </tbody>\n",
       "</table>\n",
       "</div>"
      ],
      "text/plain": [
       "      job_title   age         salary  exp. period\n",
       "0  data analyst  22.0  535354.761905         2.67\n",
       "1  data analyst  21.0  535354.761905         0.83\n",
       "2  data analyst  30.0  535354.761905         7.50\n",
       "3  data analyst  24.0  535354.761905         4.92\n",
       "4  data analyst  27.0  450000.000000         3.25"
      ]
     },
     "execution_count": 13,
     "metadata": {},
     "output_type": "execute_result"
    }
   ],
   "source": [
    "b.head()"
   ]
  },
  {
   "cell_type": "code",
   "execution_count": 12,
   "id": "a0c07eb2-2752-4cae-abb3-a7e92dc7d301",
   "metadata": {},
   "outputs": [
    {
     "name": "stdout",
     "output_type": "stream",
     "text": [
      "<class 'pandas.core.frame.DataFrame'>\n",
      "RangeIndex: 1000 entries, 0 to 999\n",
      "Data columns (total 4 columns):\n",
      " #   Column       Non-Null Count  Dtype  \n",
      "---  ------       --------------  -----  \n",
      " 0   job_title    1000 non-null   object \n",
      " 1   age          1000 non-null   float64\n",
      " 2   salary       1000 non-null   float64\n",
      " 3   exp. period  1000 non-null   float64\n",
      "dtypes: float64(3), object(1)\n",
      "memory usage: 31.4+ KB\n"
     ]
    }
   ],
   "source": [
    "b.info()"
   ]
  },
  {
   "cell_type": "code",
   "execution_count": 11,
   "id": "51dcaa59-cee3-47c8-bdac-15c8a73902b5",
   "metadata": {},
   "outputs": [
    {
     "data": {
      "text/plain": [
       "job_title      0\n",
       "age            0\n",
       "salary         0\n",
       "exp. period    0\n",
       "dtype: int64"
      ]
     },
     "execution_count": 11,
     "metadata": {},
     "output_type": "execute_result"
    }
   ],
   "source": [
    "b.isnull().sum()"
   ]
  },
  {
   "cell_type": "code",
   "execution_count": 8,
   "id": "a271f12a-687b-43e1-b1b2-14d388dbda06",
   "metadata": {},
   "outputs": [],
   "source": [
    "b['age'].fillna(b['age'].mean(), inplace=True)"
   ]
  },
  {
   "cell_type": "code",
   "execution_count": 9,
   "id": "9069b481-7d98-45f9-9e1d-c7188ad64956",
   "metadata": {},
   "outputs": [],
   "source": [
    "b['salary'].fillna(b['salary'].mean(), inplace=True)"
   ]
  },
  {
   "cell_type": "code",
   "execution_count": 14,
   "id": "0252c9bf-b9d7-4164-b6a0-4c8bc30bed64",
   "metadata": {},
   "outputs": [],
   "source": [
    "from sklearn.model_selection import train_test_split\n",
    "X = b.drop('job_title', axis=1)\n",
    "y = b['job_title']"
   ]
  },
  {
   "cell_type": "code",
   "execution_count": 15,
   "id": "ec95b651-29e9-4049-91e5-e9a5b2988d1d",
   "metadata": {},
   "outputs": [],
   "source": [
    "X_train, X_test, y_train, y_test = train_test_split(X, y, test_size=0.2, random_state=42, stratify=y)"
   ]
  },
  {
   "cell_type": "code",
   "execution_count": 16,
   "id": "4a62f042-2a01-4508-b545-0e316174d87e",
   "metadata": {},
   "outputs": [],
   "source": [
    "from sklearn.naive_bayes import GaussianNB\n",
    "gnb = GaussianNB()\n",
    "model = gnb.fit(X_train, y_train)"
   ]
  },
  {
   "cell_type": "code",
   "execution_count": 20,
   "id": "922cfb74-1867-4690-95d5-bba250d06919",
   "metadata": {},
   "outputs": [
    {
     "name": "stdout",
     "output_type": "stream",
     "text": [
      "['data engineer' 'data engineer' 'data engineer' 'data engineer'\n",
      " 'data engineer' 'data engineer' 'data engineer' 'data engineer'\n",
      " 'data engineer' 'sql' 'data engineer' 'data engineer' 'data engineer'\n",
      " 'data engineer' 'data engineer' 'data engineer' 'data scientist'\n",
      " 'data engineer' 'data engineer' 'data engineer' 'data engineer'\n",
      " 'data engineer' 'data engineer' 'data engineer' 'sql' 'python'\n",
      " 'data scientist' 'data engineer' 'data engineer' 'data engineer'\n",
      " 'data engineer' 'data engineer' 'data engineer' 'data engineer' 'sql'\n",
      " 'data engineer' 'data engineer' 'data engineer' 'data engineer' 'sql'\n",
      " 'data engineer' 'data engineer' 'python' 'data engineer' 'data engineer'\n",
      " 'data engineer' 'python' 'sql' 'python' 'data engineer' 'data engineer'\n",
      " 'data engineer' 'python' 'data engineer' 'sql' 'python' 'data engineer'\n",
      " 'data engineer' 'data engineer' 'python' 'data engineer' 'data engineer'\n",
      " 'sql' 'data engineer' 'data engineer' 'python' 'data engineer'\n",
      " 'data engineer' 'python' 'data engineer' 'data engineer' 'sql'\n",
      " 'data engineer' 'data engineer' 'python' 'data engineer' 'data engineer'\n",
      " 'data engineer' 'data engineer' 'python' 'data engineer' 'data engineer'\n",
      " 'data engineer' 'data engineer' 'data engineer' 'data engineer' 'python'\n",
      " 'sql' 'sql' 'data engineer' 'data engineer' 'python' 'data engineer'\n",
      " 'data engineer' 'data engineer' 'data engineer' 'data engineer'\n",
      " 'data engineer' 'python' 'data engineer' 'data engineer' 'data engineer'\n",
      " 'data engineer' 'data engineer' 'sql' 'data engineer' 'data engineer'\n",
      " 'python' 'sql' 'data engineer' 'python' 'data engineer' 'data engineer'\n",
      " 'data engineer' 'data engineer' 'data engineer' 'data engineer'\n",
      " 'data engineer' 'data engineer' 'data engineer' 'python' 'data engineer'\n",
      " 'data engineer' 'python' 'sql' 'data engineer' 'data analyst'\n",
      " 'data engineer' 'data engineer' 'data engineer' 'data engineer'\n",
      " 'data engineer' 'python' 'data engineer' 'python' 'data engineer'\n",
      " 'data engineer' 'data engineer' 'sql' 'data engineer' 'data engineer'\n",
      " 'data engineer' 'data engineer' 'data engineer' 'data engineer'\n",
      " 'data engineer' 'data engineer' 'data engineer' 'sql' 'data engineer'\n",
      " 'data engineer' 'data engineer' 'data engineer' 'data engineer' 'python'\n",
      " 'data engineer' 'data analyst' 'data engineer' 'data engineer'\n",
      " 'data engineer' 'python' 'data engineer' 'data engineer' 'data engineer'\n",
      " 'data engineer' 'data engineer' 'data engineer' 'data engineer'\n",
      " 'data engineer' 'data engineer' 'python' 'data engineer' 'data engineer'\n",
      " 'data engineer' 'data engineer' 'data engineer' 'python' 'data engineer'\n",
      " 'data analyst' 'data engineer' 'data engineer' 'data engineer'\n",
      " 'data engineer' 'data engineer' 'sql' 'sql' 'data engineer'\n",
      " 'data engineer' 'data engineer' 'data engineer' 'data engineer' 'sql'\n",
      " 'data engineer' 'data engineer' 'data engineer' 'data engineer'\n",
      " 'data engineer' 'data engineer' 'data engineer' 'data engineer']\n"
     ]
    }
   ],
   "source": [
    "preds = gnb.predict(X_test)\n",
    "print(preds)"
   ]
  },
  {
   "cell_type": "code",
   "execution_count": 21,
   "id": "c6e48c2f-e18a-458c-8c64-dfc2ed612437",
   "metadata": {},
   "outputs": [
    {
     "name": "stdout",
     "output_type": "stream",
     "text": [
      "0.255\n"
     ]
    }
   ],
   "source": [
    "from sklearn.metrics import accuracy_score\n",
    "print(accuracy_score(y_test,preds))"
   ]
  },
  {
   "cell_type": "code",
   "execution_count": 22,
   "id": "2a3aa852-5037-4add-8d38-faf6f2e0637e",
   "metadata": {},
   "outputs": [],
   "source": [
    "from sklearn.model_selection import cross_val_score"
   ]
  },
  {
   "cell_type": "code",
   "execution_count": 23,
   "id": "7ba9d730-e350-4df8-bcd8-feb74d352871",
   "metadata": {},
   "outputs": [
    {
     "name": "stdout",
     "output_type": "stream",
     "text": [
      "Cross-validation scores: [0.275  0.35   0.275  0.325  0.2875 0.2125 0.3125 0.3125 0.3375 0.225 ]\n"
     ]
    }
   ],
   "source": [
    "scores = cross_val_score(gnb, X_train, y_train, cv=10)\n",
    "print(\"Cross-validation scores: {}\".format(scores))"
   ]
  },
  {
   "cell_type": "code",
   "execution_count": 24,
   "id": "40fac0e0-da6b-453d-9c43-3b8837390c91",
   "metadata": {},
   "outputs": [
    {
     "name": "stdout",
     "output_type": "stream",
     "text": [
      "Average cross-validation score: 0.29\n"
     ]
    }
   ],
   "source": [
    "print(\"Average cross-validation score: {:.2f}\".format(scores.mean())) "
   ]
  },
  {
   "cell_type": "code",
   "execution_count": 37,
   "id": "9a431f57-d207-4c81-a4b0-47a0499c8dad",
   "metadata": {},
   "outputs": [],
   "source": [
    "from sklearn.neighbors import KNeighborsClassifier\n",
    "knn = KNeighborsClassifier(n_neighbors=3)\n",
    "knn_model = knn.fit(X_train, y_train)"
   ]
  },
  {
   "cell_type": "code",
   "execution_count": 38,
   "id": "5ac76895-4049-4c84-b1c5-e9b74f2624fd",
   "metadata": {},
   "outputs": [
    {
     "name": "stdout",
     "output_type": "stream",
     "text": [
      "['data analyst' 'python' 'python' 'python' 'data engineer' 'python'\n",
      " 'python' 'data engineer' 'sql' 'data engineer' 'sql' 'data analyst'\n",
      " 'python' 'sql' 'sql' 'sql' 'data scientist' 'sql' 'python'\n",
      " 'data scientist' 'data analyst' 'data analyst' 'data scientist'\n",
      " 'data engineer' 'data scientist' 'data scientist' 'data analyst' 'sql'\n",
      " 'sql' 'sql' 'data scientist' 'data analyst' 'python' 'data analyst'\n",
      " 'data scientist' 'data analyst' 'python' 'data engineer' 'sql'\n",
      " 'data analyst' 'data scientist' 'data engineer' 'data analyst' 'sql'\n",
      " 'data scientist' 'data scientist' 'sql' 'python' 'data scientist' 'sql'\n",
      " 'data engineer' 'sql' 'data scientist' 'data engineer' 'data analyst'\n",
      " 'data analyst' 'python' 'data scientist' 'data scientist' 'sql'\n",
      " 'data scientist' 'data analyst' 'data engineer' 'data engineer' 'python'\n",
      " 'python' 'python' 'sql' 'data analyst' 'data engineer' 'data analyst'\n",
      " 'data engineer' 'data engineer' 'python' 'data engineer' 'data engineer'\n",
      " 'python' 'data analyst' 'data analyst' 'data scientist' 'python'\n",
      " 'data analyst' 'data scientist' 'data analyst' 'data analyst'\n",
      " 'data engineer' 'sql' 'python' 'python' 'data engineer' 'data scientist'\n",
      " 'data engineer' 'data engineer' 'data scientist' 'python' 'data engineer'\n",
      " 'python' 'data engineer' 'data analyst' 'sql' 'python' 'data scientist'\n",
      " 'sql' 'data scientist' 'python' 'python' 'data engineer' 'sql'\n",
      " 'data engineer' 'sql' 'data engineer' 'sql' 'sql' 'sql' 'data analyst'\n",
      " 'data engineer' 'sql' 'sql' 'data engineer' 'python' 'sql'\n",
      " 'data engineer' 'python' 'data scientist' 'data scientist'\n",
      " 'data scientist' 'data engineer' 'data engineer' 'sql' 'sql'\n",
      " 'data scientist' 'sql' 'data scientist' 'sql' 'data engineer'\n",
      " 'data analyst' 'data engineer' 'sql' 'data analyst' 'data analyst'\n",
      " 'data analyst' 'data engineer' 'python' 'data analyst' 'sql' 'sql' 'sql'\n",
      " 'data scientist' 'sql' 'data analyst' 'python' 'data analyst' 'sql'\n",
      " 'data analyst' 'sql' 'data engineer' 'data engineer' 'python'\n",
      " 'data analyst' 'sql' 'data engineer' 'python' 'python' 'python' 'sql'\n",
      " 'data scientist' 'data scientist' 'python' 'data scientist'\n",
      " 'data scientist' 'data analyst' 'data scientist' 'data analyst' 'sql'\n",
      " 'data engineer' 'data scientist' 'python' 'data scientist' 'sql' 'python'\n",
      " 'data engineer' 'python' 'data analyst' 'data engineer' 'sql'\n",
      " 'data analyst' 'data scientist' 'data scientist' 'sql' 'python' 'sql'\n",
      " 'sql' 'python' 'data scientist' 'data scientist' 'data engineer'\n",
      " 'data engineer' 'data scientist' 'python' 'data analyst']\n",
      "521     data engineer\n",
      "737            python\n",
      "740            python\n",
      "660            python\n",
      "411     data engineer\n",
      "            ...      \n",
      "408     data engineer\n",
      "332    data scientist\n",
      "208    data scientist\n",
      "613            python\n",
      "78       data analyst\n",
      "Name: job_title, Length: 200, dtype: object\n"
     ]
    }
   ],
   "source": [
    "knn_preds = knn_model.predict(X_test)\n",
    "print(knn_preds)\n",
    "print(y_test)"
   ]
  },
  {
   "cell_type": "code",
   "execution_count": 39,
   "id": "1a58da66-c55b-486f-8415-a5508c7ba0be",
   "metadata": {},
   "outputs": [],
   "source": [
    "accuracy = accuracy_score(y_test, knn_preds)"
   ]
  },
  {
   "cell_type": "code",
   "execution_count": 40,
   "id": "c582a721-b01e-47f7-b7c0-76cbf89be01b",
   "metadata": {},
   "outputs": [
    {
     "name": "stdout",
     "output_type": "stream",
     "text": [
      "Accuracy: 0.83\n"
     ]
    }
   ],
   "source": [
    "print(f'Accuracy: {accuracy}')"
   ]
  },
  {
   "cell_type": "code",
   "execution_count": 41,
   "id": "4a09afe9-7afa-4907-a4dc-c17a2fc40d15",
   "metadata": {},
   "outputs": [
    {
     "name": "stdout",
     "output_type": "stream",
     "text": [
      "Cross-validation scores: [0.8    0.7625 0.8    0.7625 0.8875 0.825  0.7    0.8375 0.7125 0.85  ]\n"
     ]
    }
   ],
   "source": [
    "scores = cross_val_score(knn, X_train, y_train, cv=10)\n",
    "print(\"Cross-validation scores: {}\".format(scores))"
   ]
  },
  {
   "cell_type": "code",
   "execution_count": 42,
   "id": "4390586a-bcef-4dee-ab60-8e5b984191fd",
   "metadata": {},
   "outputs": [
    {
     "name": "stdout",
     "output_type": "stream",
     "text": [
      "Average cross-validation score: 0.79\n"
     ]
    }
   ],
   "source": [
    "print(\"Average cross-validation score: {:.2f}\".format(scores.mean())) "
   ]
  },
  {
   "cell_type": "code",
   "execution_count": null,
   "id": "ff61fd47-d04e-4ddd-b700-9bc4c786aca1",
   "metadata": {},
   "outputs": [],
   "source": []
  }
 ],
 "metadata": {
  "kernelspec": {
   "display_name": "Python 3 (ipykernel)",
   "language": "python",
   "name": "python3"
  },
  "language_info": {
   "codemirror_mode": {
    "name": "ipython",
    "version": 3
   },
   "file_extension": ".py",
   "mimetype": "text/x-python",
   "name": "python",
   "nbconvert_exporter": "python",
   "pygments_lexer": "ipython3",
   "version": "3.11.7"
  }
 },
 "nbformat": 4,
 "nbformat_minor": 5
}
